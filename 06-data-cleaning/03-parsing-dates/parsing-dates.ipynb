{
 "cells": [
  {
   "cell_type": "markdown",
   "id": "characteristic-experiment",
   "metadata": {
    "papermill": {
     "duration": 0.010516,
     "end_time": "2021-06-03T16:37:54.066551",
     "exception": false,
     "start_time": "2021-06-03T16:37:54.056035",
     "status": "completed"
    },
    "tags": []
   },
   "source": [
    "In this notebook, we're going to work with dates.\n",
    "\n",
    "Let's get started!"
   ]
  },
  {
   "cell_type": "markdown",
   "id": "domestic-renaissance",
   "metadata": {
    "papermill": {
     "duration": 0.009162,
     "end_time": "2021-06-03T16:37:54.085438",
     "exception": false,
     "start_time": "2021-06-03T16:37:54.076276",
     "status": "completed"
    },
    "tags": []
   },
   "source": [
    "# Get our environment set up\n",
    "\n",
    "The first thing we'll need to do is load in the libraries and dataset we'll be using. We'll be working with a dataset that contains information on landslides that occured between 2007 and 2016.  In the [**following exercise**](https://www.kaggle.com/kernels/fork/10824403), you'll apply your new skills to a dataset of worldwide earthquakes."
   ]
  },
  {
   "cell_type": "code",
   "execution_count": 1,
   "id": "available-imaging",
   "metadata": {
    "execution": {
     "iopub.execute_input": "2021-06-03T16:37:54.107790Z",
     "iopub.status.busy": "2021-06-03T16:37:54.106875Z",
     "iopub.status.idle": "2021-06-03T16:37:54.948885Z",
     "shell.execute_reply": "2021-06-03T16:37:54.948231Z"
    },
    "papermill": {
     "duration": 0.854261,
     "end_time": "2021-06-03T16:37:54.949074",
     "exception": false,
     "start_time": "2021-06-03T16:37:54.094813",
     "status": "completed"
    },
    "tags": []
   },
   "outputs": [],
   "source": [
    "# modules we'll use\n",
    "import pandas as pd\n",
    "import numpy as np\n",
    "import seaborn as sns\n",
    "import datetime\n",
    "\n",
    "# read in our data\n",
    "landslides = pd.read_csv(\"../input/landslide-events/catalog.csv\")\n",
    "\n",
    "# set seed for reproducibility\n",
    "np.random.seed(0)"
   ]
  },
  {
   "cell_type": "markdown",
   "id": "federal-eating",
   "metadata": {
    "papermill": {
     "duration": 0.0093,
     "end_time": "2021-06-03T16:37:54.968213",
     "exception": false,
     "start_time": "2021-06-03T16:37:54.958913",
     "status": "completed"
    },
    "tags": []
   },
   "source": [
    "Now we're ready to look at some dates!"
   ]
  },
  {
   "cell_type": "markdown",
   "id": "helpful-latitude",
   "metadata": {
    "papermill": {
     "duration": 0.009276,
     "end_time": "2021-06-03T16:37:54.986991",
     "exception": false,
     "start_time": "2021-06-03T16:37:54.977715",
     "status": "completed"
    },
    "tags": []
   },
   "source": [
    "# Check the data type of our date column\n",
    "\n",
    "We begin by taking a look at the first five rows of the data."
   ]
  },
  {
   "cell_type": "code",
   "execution_count": 2,
   "id": "animated-serbia",
   "metadata": {
    "execution": {
     "iopub.execute_input": "2021-06-03T16:37:55.023394Z",
     "iopub.status.busy": "2021-06-03T16:37:55.016182Z",
     "iopub.status.idle": "2021-06-03T16:37:55.048425Z",
     "shell.execute_reply": "2021-06-03T16:37:55.047977Z"
    },
    "papermill": {
     "duration": 0.052002,
     "end_time": "2021-06-03T16:37:55.048544",
     "exception": false,
     "start_time": "2021-06-03T16:37:54.996542",
     "status": "completed"
    },
    "tags": []
   },
   "outputs": [
    {
     "data": {
      "text/html": [
       "<div>\n",
       "<style scoped>\n",
       "    .dataframe tbody tr th:only-of-type {\n",
       "        vertical-align: middle;\n",
       "    }\n",
       "\n",
       "    .dataframe tbody tr th {\n",
       "        vertical-align: top;\n",
       "    }\n",
       "\n",
       "    .dataframe thead th {\n",
       "        text-align: right;\n",
       "    }\n",
       "</style>\n",
       "<table border=\"1\" class=\"dataframe\">\n",
       "  <thead>\n",
       "    <tr style=\"text-align: right;\">\n",
       "      <th></th>\n",
       "      <th>id</th>\n",
       "      <th>date</th>\n",
       "      <th>time</th>\n",
       "      <th>continent_code</th>\n",
       "      <th>country_name</th>\n",
       "      <th>country_code</th>\n",
       "      <th>state/province</th>\n",
       "      <th>population</th>\n",
       "      <th>city/town</th>\n",
       "      <th>distance</th>\n",
       "      <th>...</th>\n",
       "      <th>geolocation</th>\n",
       "      <th>hazard_type</th>\n",
       "      <th>landslide_type</th>\n",
       "      <th>landslide_size</th>\n",
       "      <th>trigger</th>\n",
       "      <th>storm_name</th>\n",
       "      <th>injuries</th>\n",
       "      <th>fatalities</th>\n",
       "      <th>source_name</th>\n",
       "      <th>source_link</th>\n",
       "    </tr>\n",
       "  </thead>\n",
       "  <tbody>\n",
       "    <tr>\n",
       "      <th>0</th>\n",
       "      <td>34</td>\n",
       "      <td>3/2/07</td>\n",
       "      <td>Night</td>\n",
       "      <td>NaN</td>\n",
       "      <td>United States</td>\n",
       "      <td>US</td>\n",
       "      <td>Virginia</td>\n",
       "      <td>16000</td>\n",
       "      <td>Cherry Hill</td>\n",
       "      <td>3.40765</td>\n",
       "      <td>...</td>\n",
       "      <td>(38.600900000000003, -77.268199999999993)</td>\n",
       "      <td>Landslide</td>\n",
       "      <td>Landslide</td>\n",
       "      <td>Small</td>\n",
       "      <td>Rain</td>\n",
       "      <td>NaN</td>\n",
       "      <td>NaN</td>\n",
       "      <td>NaN</td>\n",
       "      <td>NBC 4 news</td>\n",
       "      <td>http://www.nbc4.com/news/11186871/detail.html</td>\n",
       "    </tr>\n",
       "    <tr>\n",
       "      <th>1</th>\n",
       "      <td>42</td>\n",
       "      <td>3/22/07</td>\n",
       "      <td>NaN</td>\n",
       "      <td>NaN</td>\n",
       "      <td>United States</td>\n",
       "      <td>US</td>\n",
       "      <td>Ohio</td>\n",
       "      <td>17288</td>\n",
       "      <td>New Philadelphia</td>\n",
       "      <td>3.33522</td>\n",
       "      <td>...</td>\n",
       "      <td>(40.517499999999998, -81.430499999999995)</td>\n",
       "      <td>Landslide</td>\n",
       "      <td>Landslide</td>\n",
       "      <td>Small</td>\n",
       "      <td>Rain</td>\n",
       "      <td>NaN</td>\n",
       "      <td>NaN</td>\n",
       "      <td>NaN</td>\n",
       "      <td>Canton Rep.com</td>\n",
       "      <td>http://www.cantonrep.com/index.php?ID=345054&amp;C...</td>\n",
       "    </tr>\n",
       "    <tr>\n",
       "      <th>2</th>\n",
       "      <td>56</td>\n",
       "      <td>4/6/07</td>\n",
       "      <td>NaN</td>\n",
       "      <td>NaN</td>\n",
       "      <td>United States</td>\n",
       "      <td>US</td>\n",
       "      <td>Pennsylvania</td>\n",
       "      <td>15930</td>\n",
       "      <td>Wilkinsburg</td>\n",
       "      <td>2.91977</td>\n",
       "      <td>...</td>\n",
       "      <td>(40.4377, -79.915999999999997)</td>\n",
       "      <td>Landslide</td>\n",
       "      <td>Landslide</td>\n",
       "      <td>Small</td>\n",
       "      <td>Rain</td>\n",
       "      <td>NaN</td>\n",
       "      <td>NaN</td>\n",
       "      <td>NaN</td>\n",
       "      <td>The Pittsburgh Channel.com</td>\n",
       "      <td>https://web.archive.org/web/20080423132842/htt...</td>\n",
       "    </tr>\n",
       "    <tr>\n",
       "      <th>3</th>\n",
       "      <td>59</td>\n",
       "      <td>4/14/07</td>\n",
       "      <td>NaN</td>\n",
       "      <td>NaN</td>\n",
       "      <td>Canada</td>\n",
       "      <td>CA</td>\n",
       "      <td>Quebec</td>\n",
       "      <td>42786</td>\n",
       "      <td>Châteauguay</td>\n",
       "      <td>2.98682</td>\n",
       "      <td>...</td>\n",
       "      <td>(45.322600000000001, -73.777100000000004)</td>\n",
       "      <td>Landslide</td>\n",
       "      <td>Riverbank collapse</td>\n",
       "      <td>Small</td>\n",
       "      <td>Rain</td>\n",
       "      <td>NaN</td>\n",
       "      <td>NaN</td>\n",
       "      <td>NaN</td>\n",
       "      <td>Le Soleil</td>\n",
       "      <td>http://www.hebdos.net/lsc/edition162007/articl...</td>\n",
       "    </tr>\n",
       "    <tr>\n",
       "      <th>4</th>\n",
       "      <td>61</td>\n",
       "      <td>4/15/07</td>\n",
       "      <td>NaN</td>\n",
       "      <td>NaN</td>\n",
       "      <td>United States</td>\n",
       "      <td>US</td>\n",
       "      <td>Kentucky</td>\n",
       "      <td>6903</td>\n",
       "      <td>Pikeville</td>\n",
       "      <td>5.66542</td>\n",
       "      <td>...</td>\n",
       "      <td>(37.432499999999997, -82.493099999999998)</td>\n",
       "      <td>Landslide</td>\n",
       "      <td>Landslide</td>\n",
       "      <td>Small</td>\n",
       "      <td>Downpour</td>\n",
       "      <td>NaN</td>\n",
       "      <td>NaN</td>\n",
       "      <td>0.0</td>\n",
       "      <td>Matthew Crawford (KGS)</td>\n",
       "      <td>NaN</td>\n",
       "    </tr>\n",
       "  </tbody>\n",
       "</table>\n",
       "<p>5 rows × 23 columns</p>\n",
       "</div>"
      ],
      "text/plain": [
       "   id     date   time continent_code   country_name country_code  \\\n",
       "0  34   3/2/07  Night            NaN  United States           US   \n",
       "1  42  3/22/07    NaN            NaN  United States           US   \n",
       "2  56   4/6/07    NaN            NaN  United States           US   \n",
       "3  59  4/14/07    NaN            NaN         Canada           CA   \n",
       "4  61  4/15/07    NaN            NaN  United States           US   \n",
       "\n",
       "  state/province  population         city/town  distance  ...  \\\n",
       "0       Virginia       16000       Cherry Hill   3.40765  ...   \n",
       "1           Ohio       17288  New Philadelphia   3.33522  ...   \n",
       "2   Pennsylvania       15930       Wilkinsburg   2.91977  ...   \n",
       "3         Quebec       42786       Châteauguay   2.98682  ...   \n",
       "4       Kentucky        6903         Pikeville   5.66542  ...   \n",
       "\n",
       "                                 geolocation  hazard_type      landslide_type  \\\n",
       "0  (38.600900000000003, -77.268199999999993)    Landslide           Landslide   \n",
       "1  (40.517499999999998, -81.430499999999995)    Landslide           Landslide   \n",
       "2             (40.4377, -79.915999999999997)    Landslide           Landslide   \n",
       "3  (45.322600000000001, -73.777100000000004)    Landslide  Riverbank collapse   \n",
       "4  (37.432499999999997, -82.493099999999998)    Landslide           Landslide   \n",
       "\n",
       "  landslide_size   trigger storm_name injuries fatalities  \\\n",
       "0          Small      Rain        NaN      NaN        NaN   \n",
       "1          Small      Rain        NaN      NaN        NaN   \n",
       "2          Small      Rain        NaN      NaN        NaN   \n",
       "3          Small      Rain        NaN      NaN        NaN   \n",
       "4          Small  Downpour        NaN      NaN        0.0   \n",
       "\n",
       "                  source_name  \\\n",
       "0                  NBC 4 news   \n",
       "1              Canton Rep.com   \n",
       "2  The Pittsburgh Channel.com   \n",
       "3                   Le Soleil   \n",
       "4      Matthew Crawford (KGS)   \n",
       "\n",
       "                                         source_link  \n",
       "0      http://www.nbc4.com/news/11186871/detail.html  \n",
       "1  http://www.cantonrep.com/index.php?ID=345054&C...  \n",
       "2  https://web.archive.org/web/20080423132842/htt...  \n",
       "3  http://www.hebdos.net/lsc/edition162007/articl...  \n",
       "4                                                NaN  \n",
       "\n",
       "[5 rows x 23 columns]"
      ]
     },
     "execution_count": 2,
     "metadata": {},
     "output_type": "execute_result"
    }
   ],
   "source": [
    "landslides.head()"
   ]
  },
  {
   "cell_type": "markdown",
   "id": "adolescent-subscription",
   "metadata": {
    "papermill": {
     "duration": 0.011281,
     "end_time": "2021-06-03T16:37:55.070144",
     "exception": false,
     "start_time": "2021-06-03T16:37:55.058863",
     "status": "completed"
    },
    "tags": []
   },
   "source": [
    "We'll be working with the \"date\" column from the `landslides` dataframe. Let's make sure it actually looks like it contains dates."
   ]
  },
  {
   "cell_type": "code",
   "execution_count": 3,
   "id": "infinite-garbage",
   "metadata": {
    "execution": {
     "iopub.execute_input": "2021-06-03T16:37:55.095579Z",
     "iopub.status.busy": "2021-06-03T16:37:55.094901Z",
     "iopub.status.idle": "2021-06-03T16:37:55.098643Z",
     "shell.execute_reply": "2021-06-03T16:37:55.098210Z"
    },
    "papermill": {
     "duration": 0.01858,
     "end_time": "2021-06-03T16:37:55.098762",
     "exception": false,
     "start_time": "2021-06-03T16:37:55.080182",
     "status": "completed"
    },
    "tags": []
   },
   "outputs": [
    {
     "name": "stdout",
     "output_type": "stream",
     "text": [
      "0     3/2/07\n",
      "1    3/22/07\n",
      "2     4/6/07\n",
      "3    4/14/07\n",
      "4    4/15/07\n",
      "Name: date, dtype: object\n"
     ]
    }
   ],
   "source": [
    "# print the first few rows of the date column\n",
    "print(landslides['date'].head())"
   ]
  },
  {
   "cell_type": "markdown",
   "id": "established-protest",
   "metadata": {
    "papermill": {
     "duration": 0.01009,
     "end_time": "2021-06-03T16:37:55.119341",
     "exception": false,
     "start_time": "2021-06-03T16:37:55.109251",
     "status": "completed"
    },
    "tags": []
   },
   "source": [
    "Yep, those are dates! But just because I, a human, can tell that these are dates doesn't mean that Python knows that they're dates. Notice that at the bottom of the output of `head()`, you can see that it says that the data type of this  column is \"object\". \n",
    "\n",
    "> Pandas uses the \"object\" dtype for storing various types of data types, but most often when you see a column with the dtype \"object\" it will have strings in it. \n",
    "\n",
    "If you check the pandas dtype documentation [here](http://pandas.pydata.org/pandas-docs/stable/basics.html#dtypes), you'll notice that there's also a specific `datetime64` dtypes. Because the dtype of our column is `object` rather than `datetime64`, we can tell that Python doesn't know that this column contains dates.\n",
    "\n",
    "We can also look at just the dtype of a column without printing the first few rows:"
   ]
  },
  {
   "cell_type": "code",
   "execution_count": 4,
   "id": "divided-corpus",
   "metadata": {
    "execution": {
     "iopub.execute_input": "2021-06-03T16:37:55.144972Z",
     "iopub.status.busy": "2021-06-03T16:37:55.144357Z",
     "iopub.status.idle": "2021-06-03T16:37:55.147815Z",
     "shell.execute_reply": "2021-06-03T16:37:55.147382Z"
    },
    "papermill": {
     "duration": 0.018195,
     "end_time": "2021-06-03T16:37:55.147949",
     "exception": false,
     "start_time": "2021-06-03T16:37:55.129754",
     "status": "completed"
    },
    "tags": []
   },
   "outputs": [
    {
     "data": {
      "text/plain": [
       "dtype('O')"
      ]
     },
     "execution_count": 4,
     "metadata": {},
     "output_type": "execute_result"
    }
   ],
   "source": [
    "# check the data type of our date column\n",
    "landslides['date'].dtype"
   ]
  },
  {
   "cell_type": "markdown",
   "id": "heard-agenda",
   "metadata": {
    "papermill": {
     "duration": 0.010661,
     "end_time": "2021-06-03T16:37:55.169338",
     "exception": false,
     "start_time": "2021-06-03T16:37:55.158677",
     "status": "completed"
    },
    "tags": []
   },
   "source": [
    "You may have to check the [numpy documentation](https://docs.scipy.org/doc/numpy-1.12.0/reference/generated/numpy.dtype.kind.html#numpy.dtype.kind) to match the letter code to the dtype of the object. \"O\" is the code for \"object\", so we can see that these two methods give us the same information."
   ]
  },
  {
   "cell_type": "markdown",
   "id": "iraqi-assignment",
   "metadata": {
    "papermill": {
     "duration": 0.010678,
     "end_time": "2021-06-03T16:37:55.190840",
     "exception": false,
     "start_time": "2021-06-03T16:37:55.180162",
     "status": "completed"
    },
    "tags": []
   },
   "source": [
    "# Convert our date columns to datetime\n",
    "\n",
    "Now that we know that our date column isn't being recognized as a date, it's time to convert it so that it *is* recognized as a date. This is called \"parsing dates\" because we're taking in a string and identifying its component parts.\n",
    "\n",
    "We can pandas what the format of our dates are with a guide called as [\"strftime directive\", which you can find more information on at this link](http://strftime.org/). The basic idea is that you need to point out which parts of the date are where and what punctuation is between them. There are [lots of possible parts of a date](http://strftime.org/), but the most common are `%d` for day, `%m` for month, `%y` for a two-digit year and `%Y` for a four digit year.\n",
    "\n",
    "Some examples:\n",
    "\n",
    " * 1/17/07 has the format \"%m/%d/%y\"\n",
    " * 17-1-2007 has the format \"%d-%m-%Y\"\n",
    " \n",
    "Looking back up at the head of the \"date\" column in the landslides dataset, we can see that it's in the format \"month/day/two-digit year\", so we can use the same syntax as the first example to parse in our dates: "
   ]
  },
  {
   "cell_type": "code",
   "execution_count": 5,
   "id": "direct-clothing",
   "metadata": {
    "execution": {
     "iopub.execute_input": "2021-06-03T16:37:55.224041Z",
     "iopub.status.busy": "2021-06-03T16:37:55.223353Z",
     "iopub.status.idle": "2021-06-03T16:37:55.226460Z",
     "shell.execute_reply": "2021-06-03T16:37:55.225900Z"
    },
    "papermill": {
     "duration": 0.024816,
     "end_time": "2021-06-03T16:37:55.226582",
     "exception": false,
     "start_time": "2021-06-03T16:37:55.201766",
     "status": "completed"
    },
    "scrolled": false,
    "tags": []
   },
   "outputs": [],
   "source": [
    "# create a new column, date_parsed, with the parsed dates\n",
    "landslides['date_parsed'] = pd.to_datetime(landslides['date'], format=\"%m/%d/%y\")"
   ]
  },
  {
   "cell_type": "markdown",
   "id": "several-conflict",
   "metadata": {
    "papermill": {
     "duration": 0.010867,
     "end_time": "2021-06-03T16:37:55.248420",
     "exception": false,
     "start_time": "2021-06-03T16:37:55.237553",
     "status": "completed"
    },
    "tags": []
   },
   "source": [
    "Now when I check the first few rows of the new column, I can see that the dtype is `datetime64`. I can also see that my dates have been slightly rearranged so that they fit the default order datetime objects (year-month-day)."
   ]
  },
  {
   "cell_type": "code",
   "execution_count": 6,
   "id": "incident-package",
   "metadata": {
    "execution": {
     "iopub.execute_input": "2021-06-03T16:37:55.276328Z",
     "iopub.status.busy": "2021-06-03T16:37:55.275741Z",
     "iopub.status.idle": "2021-06-03T16:37:55.279077Z",
     "shell.execute_reply": "2021-06-03T16:37:55.279751Z"
    },
    "papermill": {
     "duration": 0.020454,
     "end_time": "2021-06-03T16:37:55.279922",
     "exception": false,
     "start_time": "2021-06-03T16:37:55.259468",
     "status": "completed"
    },
    "tags": []
   },
   "outputs": [
    {
     "data": {
      "text/plain": [
       "0   2007-03-02\n",
       "1   2007-03-22\n",
       "2   2007-04-06\n",
       "3   2007-04-14\n",
       "4   2007-04-15\n",
       "Name: date_parsed, dtype: datetime64[ns]"
      ]
     },
     "execution_count": 6,
     "metadata": {},
     "output_type": "execute_result"
    }
   ],
   "source": [
    "# print the first few rows\n",
    "landslides['date_parsed'].head()"
   ]
  },
  {
   "cell_type": "markdown",
   "id": "mechanical-drinking",
   "metadata": {
    "papermill": {
     "duration": 0.011377,
     "end_time": "2021-06-03T16:37:55.302735",
     "exception": false,
     "start_time": "2021-06-03T16:37:55.291358",
     "status": "completed"
    },
    "tags": []
   },
   "source": [
    "Now that our dates are parsed correctly, we can interact with them in useful ways.\n",
    "\n",
    "___\n",
    "* **What if I run into an error with multiple date formats?** While we're specifying the date format here, sometimes you'll run into an error when there are multiple date formats in a single column. If that happens, you have have pandas try to infer what the right date format should be. You can do that like so:\n",
    "\n",
    "`landslides['date_parsed'] = pd.to_datetime(landslides['Date'], infer_datetime_format=True)`\n",
    "\n",
    "* **Why don't you always use `infer_datetime_format = True?`** There are two big reasons not to always have pandas guess the time format. The first is that pandas won't always been able to figure out the correct date format, especially if someone has gotten creative with data entry. The second is that it's much slower than specifying the exact format of the dates."
   ]
  },
  {
   "cell_type": "markdown",
   "id": "dying-hollow",
   "metadata": {
    "papermill": {
     "duration": 0.01115,
     "end_time": "2021-06-03T16:37:55.325431",
     "exception": false,
     "start_time": "2021-06-03T16:37:55.314281",
     "status": "completed"
    },
    "tags": []
   },
   "source": [
    "# Select the day of the month\n",
    "\n",
    "Now that we have a column of parsed dates, we can extract information like the day of the month that a landslide occurred."
   ]
  },
  {
   "cell_type": "code",
   "execution_count": 7,
   "id": "corporate-vertex",
   "metadata": {
    "execution": {
     "iopub.execute_input": "2021-06-03T16:37:55.354668Z",
     "iopub.status.busy": "2021-06-03T16:37:55.352253Z",
     "iopub.status.idle": "2021-06-03T16:37:55.358587Z",
     "shell.execute_reply": "2021-06-03T16:37:55.358124Z"
    },
    "papermill": {
     "duration": 0.021933,
     "end_time": "2021-06-03T16:37:55.358706",
     "exception": false,
     "start_time": "2021-06-03T16:37:55.336773",
     "status": "completed"
    },
    "tags": []
   },
   "outputs": [
    {
     "data": {
      "text/plain": [
       "0     2.0\n",
       "1    22.0\n",
       "2     6.0\n",
       "3    14.0\n",
       "4    15.0\n",
       "Name: date_parsed, dtype: float64"
      ]
     },
     "execution_count": 7,
     "metadata": {},
     "output_type": "execute_result"
    }
   ],
   "source": [
    "# get the day of the month from the date_parsed column\n",
    "day_of_month_landslides = landslides['date_parsed'].dt.day\n",
    "day_of_month_landslides.head()"
   ]
  },
  {
   "cell_type": "markdown",
   "id": "signed-spider",
   "metadata": {
    "papermill": {
     "duration": 0.011479,
     "end_time": "2021-06-03T16:37:55.382192",
     "exception": false,
     "start_time": "2021-06-03T16:37:55.370713",
     "status": "completed"
    },
    "tags": []
   },
   "source": [
    "If we tried to get the same information from the original \"date\" column, we would get an error: `AttributeError: Can only use .dt accessor with datetimelike values`.  This is because `dt.day` doesn't know how to deal with a column with the dtype \"object\". Even though our dataframe has dates in it, we have to parse them before we can interact with them in a useful way."
   ]
  },
  {
   "cell_type": "markdown",
   "id": "invalid-steps",
   "metadata": {
    "papermill": {
     "duration": 0.011921,
     "end_time": "2021-06-03T16:37:55.405762",
     "exception": false,
     "start_time": "2021-06-03T16:37:55.393841",
     "status": "completed"
    },
    "tags": []
   },
   "source": [
    "# Plot the day of the month to check the date parsing\n",
    "\n",
    "One of the biggest dangers in parsing dates is mixing up the months and days. The `to_datetime()` function does have very helpful error messages, but it doesn't hurt to double-check that the days of the month we've extracted make sense. \n",
    "\n",
    "To do this, let's plot a histogram of the days of the month. We expect it to have values between 1 and 31 and, since there's no reason to suppose the landslides are more common on some days of the month than others, a relatively even distribution. (With a dip on 31 because not all months have 31 days.) Let's see if that's the case:"
   ]
  },
  {
   "cell_type": "code",
   "execution_count": 8,
   "id": "contemporary-argument",
   "metadata": {
    "execution": {
     "iopub.execute_input": "2021-06-03T16:37:55.434232Z",
     "iopub.status.busy": "2021-06-03T16:37:55.433646Z",
     "iopub.status.idle": "2021-06-03T16:37:55.636308Z",
     "shell.execute_reply": "2021-06-03T16:37:55.635782Z"
    },
    "papermill": {
     "duration": 0.218858,
     "end_time": "2021-06-03T16:37:55.636434",
     "exception": false,
     "start_time": "2021-06-03T16:37:55.417576",
     "status": "completed"
    },
    "tags": []
   },
   "outputs": [
    {
     "name": "stderr",
     "output_type": "stream",
     "text": [
      "/opt/conda/lib/python3.7/site-packages/seaborn/distributions.py:2557: FutureWarning: `distplot` is a deprecated function and will be removed in a future version. Please adapt your code to use either `displot` (a figure-level function with similar flexibility) or `histplot` (an axes-level function for histograms).\n",
      "  warnings.warn(msg, FutureWarning)\n"
     ]
    },
    {
     "data": {
      "text/plain": [
       "<AxesSubplot:xlabel='date_parsed'>"
      ]
     },
     "execution_count": 8,
     "metadata": {},
     "output_type": "execute_result"
    },
    {
     "data": {
      "image/png": "[encoded data removed]",
      "text/plain": [
       "<Figure size 432x288 with 1 Axes>"
      ]
     },
     "metadata": {
      "needs_background": "light"
     },
     "output_type": "display_data"
    }
   ],
   "source": [
    "# remove na's\n",
    "day_of_month_landslides = day_of_month_landslides.dropna()\n",
    "\n",
    "# plot the day of the month\n",
    "sns.distplot(day_of_month_landslides, kde=False, bins=31)"
   ]
  },
  {
   "cell_type": "markdown",
   "id": "vocational-snowboard",
   "metadata": {
    "papermill": {
     "duration": 0.012475,
     "end_time": "2021-06-03T16:37:55.661780",
     "exception": false,
     "start_time": "2021-06-03T16:37:55.649305",
     "status": "completed"
    },
    "tags": []
   },
   "source": [
    "Yep, it looks like we did parse our dates correctly & this graph makes good sense to me.\n",
    "\n",
    "# Your turn\n",
    "\n",
    "Write code to [**parse the dates**](https://www.kaggle.com/kernels/fork/10824403) in a dataset of worldwide earthquakes."
   ]
  },
  {
   "cell_type": "markdown",
   "id": "opened-margin",
   "metadata": {
    "papermill": {
     "duration": 0.012346,
     "end_time": "2021-06-03T16:37:55.686882",
     "exception": false,
     "start_time": "2021-06-03T16:37:55.674536",
     "status": "completed"
    },
    "tags": []
   },
   "source": [
    "---\n",
    "\n",
    "\n",
    "\n",
    "\n",
    "*Have questions or comments? Visit the [Learn Discussion forum](https://www.kaggle.com/learn-forum/172650) to chat with other Learners.*"
   ]
  }
 ],
 "metadata": {
  "kernelspec": {
   "display_name": "Python 3",
   "language": "python",
   "name": "python3"
  },
  "language_info": {
   "codemirror_mode": {
    "name": "ipython",
    "version": 3
   },
   "file_extension": ".py",
   "mimetype": "text/x-python",
   "name": "python",
   "nbconvert_exporter": "python",
   "pygments_lexer": "ipython3",
   "version": "3.7.9"
  },
  "papermill": {
   "default_parameters": {},
   "duration": 7.245843,
   "end_time": "2021-06-03T16:37:56.309143",
   "environment_variables": {},
   "exception": null,
   "input_path": "__notebook__.ipynb",
   "output_path": "__notebook__.ipynb",
   "parameters": {},
   "start_time": "2021-06-03T16:37:49.063300",
   "version": "2.3.2"
  }
 },
 "nbformat": 4,
 "nbformat_minor": 5
}
