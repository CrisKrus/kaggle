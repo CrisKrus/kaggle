{
 "cells": [
  {
   "cell_type": "markdown",
   "id": "positive-scale",
   "metadata": {
    "papermill": {
     "duration": 0.011807,
     "end_time": "2021-06-03T16:37:51.727142",
     "exception": false,
     "start_time": "2021-06-03T16:37:51.715335",
     "status": "completed"
    },
    "tags": []
   },
   "source": [
    "In this notebook, we're going to be working with different character encodings. \n",
    "\n",
    "Let's get started!"
   ]
  },
  {
   "cell_type": "markdown",
   "id": "exciting-television",
   "metadata": {
    "papermill": {
     "duration": 0.010476,
     "end_time": "2021-06-03T16:37:51.748528",
     "exception": false,
     "start_time": "2021-06-03T16:37:51.738052",
     "status": "completed"
    },
    "tags": []
   },
   "source": [
    "# Get our environment set up\n",
    "\n",
    "The first thing we'll need to do is load in the libraries we'll be using. Not our dataset, though: we'll get to it later!"
   ]
  },
  {
   "cell_type": "code",
   "execution_count": 1,
   "id": "outstanding-indonesian",
   "metadata": {
    "execution": {
     "iopub.execute_input": "2021-06-03T16:37:51.775200Z",
     "iopub.status.busy": "2021-06-03T16:37:51.774634Z",
     "iopub.status.idle": "2021-06-03T16:37:51.777400Z",
     "shell.execute_reply": "2021-06-03T16:37:51.776738Z"
    },
    "papermill": {
     "duration": 0.018296,
     "end_time": "2021-06-03T16:37:51.777553",
     "exception": false,
     "start_time": "2021-06-03T16:37:51.759257",
     "status": "completed"
    },
    "tags": []
   },
   "outputs": [],
   "source": [
    "# modules we'll use\n",
    "import pandas as pd\n",
    "import numpy as np\n",
    "\n",
    "# helpful character encoding module\n",
    "import chardet\n",
    "\n",
    "# set seed for reproducibility\n",
    "np.random.seed(0)"
   ]
  },
  {
   "cell_type": "markdown",
   "id": "powered-montana",
   "metadata": {
    "papermill": {
     "duration": 0.011181,
     "end_time": "2021-06-03T16:37:51.800049",
     "exception": false,
     "start_time": "2021-06-03T16:37:51.788868",
     "status": "completed"
    },
    "tags": []
   },
   "source": [
    "# What are encodings?\n",
    "\n",
    "**Character encodings** are specific sets of rules for mapping from raw binary byte strings (that look like this: 0110100001101001) to characters that make up human-readable text (like \"hi\"). There are many different encodings, and if you tried to read in text with a different encoding than the one it was originally written in, you ended up with scrambled text called \"mojibake\" (said like mo-gee-bah-kay). Here's an example of mojibake:\n",
    "\n",
    "æ–‡å—åŒ–ã??\n",
    "\n",
    "You might also end up with a \"unknown\" characters. There are what gets printed when there's no mapping between a particular byte and a character in the encoding you're using to read your byte string in and they look like this:\n",
    "\n",
    "����������\n",
    "\n",
    "Character encoding mismatches are less common today than they used to be, but it's definitely still a problem. There are lots of different character encodings, but the main one you need to know is UTF-8.\n",
    "\n",
    "> UTF-8 is **the** standard text encoding. All Python code is in UTF-8 and, ideally, all your data should be as well. It's when things aren't in UTF-8 that you run into trouble.\n",
    "\n",
    "It was pretty hard to deal with encodings in Python 2, but thankfully in Python 3 it's a lot simpler. (Kaggle Notebooks only use Python 3.) There are two main data types you'll encounter when working with text in Python 3. One is is the string, which is what text is by default."
   ]
  },
  {
   "cell_type": "code",
   "execution_count": 2,
   "id": "amber-debut",
   "metadata": {
    "execution": {
     "iopub.execute_input": "2021-06-03T16:37:51.829983Z",
     "iopub.status.busy": "2021-06-03T16:37:51.829067Z",
     "iopub.status.idle": "2021-06-03T16:37:51.832450Z",
     "shell.execute_reply": "2021-06-03T16:37:51.832872Z"
    },
    "papermill": {
     "duration": 0.021539,
     "end_time": "2021-06-03T16:37:51.833030",
     "exception": false,
     "start_time": "2021-06-03T16:37:51.811491",
     "status": "completed"
    },
    "tags": []
   },
   "outputs": [
    {
     "data": {
      "text/plain": [
       "str"
      ]
     },
     "execution_count": 2,
     "metadata": {},
     "output_type": "execute_result"
    }
   ],
   "source": [
    "# start with a string\n",
    "before = \"This is the euro symbol: €\"\n",
    "\n",
    "# check to see what datatype it is\n",
    "type(before)"
   ]
  },
  {
   "cell_type": "markdown",
   "id": "portuguese-mozambique",
   "metadata": {
    "papermill": {
     "duration": 0.012401,
     "end_time": "2021-06-03T16:37:51.857097",
     "exception": false,
     "start_time": "2021-06-03T16:37:51.844696",
     "status": "completed"
    },
    "tags": []
   },
   "source": [
    "The other data is the [bytes](https://docs.python.org/3.1/library/functions.html#bytes) data type, which is a sequence of integers. You can convert a string into bytes by specifying which encoding it's in:"
   ]
  },
  {
   "cell_type": "code",
   "execution_count": 3,
   "id": "billion-exhaust",
   "metadata": {
    "execution": {
     "iopub.execute_input": "2021-06-03T16:37:51.885309Z",
     "iopub.status.busy": "2021-06-03T16:37:51.884239Z",
     "iopub.status.idle": "2021-06-03T16:37:51.888449Z",
     "shell.execute_reply": "2021-06-03T16:37:51.888016Z"
    },
    "papermill": {
     "duration": 0.020258,
     "end_time": "2021-06-03T16:37:51.888585",
     "exception": false,
     "start_time": "2021-06-03T16:37:51.868327",
     "status": "completed"
    },
    "tags": []
   },
   "outputs": [
    {
     "data": {
      "text/plain": [
       "bytes"
      ]
     },
     "execution_count": 3,
     "metadata": {},
     "output_type": "execute_result"
    }
   ],
   "source": [
    "# encode it to a different encoding, replacing characters that raise errors\n",
    "after = before.encode(\"utf-8\", errors=\"replace\")\n",
    "\n",
    "# check the type\n",
    "type(after)"
   ]
  },
  {
   "cell_type": "markdown",
   "id": "static-basic",
   "metadata": {
    "papermill": {
     "duration": 0.01206,
     "end_time": "2021-06-03T16:37:51.912405",
     "exception": false,
     "start_time": "2021-06-03T16:37:51.900345",
     "status": "completed"
    },
    "tags": []
   },
   "source": [
    "If you look at a bytes object, you'll see that it has a b in front of it, and then maybe some text after. That's because bytes are printed out as if they were characters encoded in ASCII. (ASCII is an older character encoding that doesn't really work for writing any language other than English.) Here you can see that our euro symbol  has been replaced with some mojibake that looks like \"\\xe2\\x82\\xac\" when it's printed as if it were an ASCII string."
   ]
  },
  {
   "cell_type": "code",
   "execution_count": 4,
   "id": "developed-potato",
   "metadata": {
    "execution": {
     "iopub.execute_input": "2021-06-03T16:37:51.941505Z",
     "iopub.status.busy": "2021-06-03T16:37:51.940557Z",
     "iopub.status.idle": "2021-06-03T16:37:51.945320Z",
     "shell.execute_reply": "2021-06-03T16:37:51.944817Z"
    },
    "papermill": {
     "duration": 0.020835,
     "end_time": "2021-06-03T16:37:51.945455",
     "exception": false,
     "start_time": "2021-06-03T16:37:51.924620",
     "status": "completed"
    },
    "tags": []
   },
   "outputs": [
    {
     "data": {
      "text/plain": [
       "b'This is the euro symbol: \\xe2\\x82\\xac'"
      ]
     },
     "execution_count": 4,
     "metadata": {},
     "output_type": "execute_result"
    }
   ],
   "source": [
    "# take a look at what the bytes look like\n",
    "after"
   ]
  },
  {
   "cell_type": "markdown",
   "id": "thermal-shelter",
   "metadata": {
    "papermill": {
     "duration": 0.011626,
     "end_time": "2021-06-03T16:37:51.969096",
     "exception": false,
     "start_time": "2021-06-03T16:37:51.957470",
     "status": "completed"
    },
    "tags": []
   },
   "source": [
    "When we convert our bytes back to a string with the correct encoding, we can see that our text is all there correctly, which is great! :)"
   ]
  },
  {
   "cell_type": "code",
   "execution_count": 5,
   "id": "configured-pastor",
   "metadata": {
    "execution": {
     "iopub.execute_input": "2021-06-03T16:37:51.999117Z",
     "iopub.status.busy": "2021-06-03T16:37:51.998082Z",
     "iopub.status.idle": "2021-06-03T16:37:52.003755Z",
     "shell.execute_reply": "2021-06-03T16:37:52.003149Z"
    },
    "papermill": {
     "duration": 0.022131,
     "end_time": "2021-06-03T16:37:52.003901",
     "exception": false,
     "start_time": "2021-06-03T16:37:51.981770",
     "status": "completed"
    },
    "tags": []
   },
   "outputs": [
    {
     "name": "stdout",
     "output_type": "stream",
     "text": [
      "This is the euro symbol: €\n"
     ]
    }
   ],
   "source": [
    "# convert it back to utf-8\n",
    "print(after.decode(\"utf-8\"))"
   ]
  },
  {
   "cell_type": "markdown",
   "id": "israeli-murray",
   "metadata": {
    "papermill": {
     "duration": 0.011925,
     "end_time": "2021-06-03T16:37:52.028342",
     "exception": false,
     "start_time": "2021-06-03T16:37:52.016417",
     "status": "completed"
    },
    "tags": []
   },
   "source": [
    "However, when we try to use a different encoding to map our bytes into a string, we get an error. This is because the encoding we're trying to use doesn't know what to do with the bytes we're trying to pass it. You need to tell Python the encoding that the byte string is actually supposed to be in.\n",
    "\n",
    "> You can think of different encodings as different ways of recording music. You can record the same music on a CD, cassette tape or 8-track. While the music may sound more-or-less the same, you need to use the right equipment to play the music from each recording format. The correct decoder is like a cassette player or a CD player. If you try to play a cassette in a CD player, it just won't work. "
   ]
  },
  {
   "cell_type": "code",
   "execution_count": 6,
   "id": "aerial-kruger",
   "metadata": {
    "execution": {
     "iopub.execute_input": "2021-06-03T16:37:52.057802Z",
     "iopub.status.busy": "2021-06-03T16:37:52.057014Z",
     "iopub.status.idle": "2021-06-03T16:37:52.094848Z",
     "shell.execute_reply": "2021-06-03T16:37:52.094323Z"
    },
    "papermill": {
     "duration": 0.054126,
     "end_time": "2021-06-03T16:37:52.095069",
     "exception": false,
     "start_time": "2021-06-03T16:37:52.040943",
     "status": "completed"
    },
    "tags": []
   },
   "outputs": [
    {
     "ename": "UnicodeDecodeError",
     "evalue": "'ascii' codec can't decode byte 0xe2 in position 25: ordinal not in range(128)",
     "output_type": "error",
     "traceback": [
      "\u001b[0;31m---------------------------------------------------------------------------\u001b[0m",
      "\u001b[0;31mUnicodeDecodeError\u001b[0m                        Traceback (most recent call last)",
      "\u001b[0;32m<ipython-input-6-50fd8662e3ae>\u001b[0m in \u001b[0;36m<module>\u001b[0;34m\u001b[0m\n\u001b[1;32m      1\u001b[0m \u001b[0;31m# try to decode our bytes with the ascii encoding\u001b[0m\u001b[0;34m\u001b[0m\u001b[0;34m\u001b[0m\u001b[0;34m\u001b[0m\u001b[0m\n\u001b[0;32m----> 2\u001b[0;31m \u001b[0mprint\u001b[0m\u001b[0;34m(\u001b[0m\u001b[0mafter\u001b[0m\u001b[0;34m.\u001b[0m\u001b[0mdecode\u001b[0m\u001b[0;34m(\u001b[0m\u001b[0;34m\"ascii\"\u001b[0m\u001b[0;34m)\u001b[0m\u001b[0;34m)\u001b[0m\u001b[0;34m\u001b[0m\u001b[0;34m\u001b[0m\u001b[0m\n\u001b[0m",
      "\u001b[0;31mUnicodeDecodeError\u001b[0m: 'ascii' codec can't decode byte 0xe2 in position 25: ordinal not in range(128)"
     ]
    }
   ],
   "source": [
    "# try to decode our bytes with the ascii encoding\n",
    "print(after.decode(\"ascii\"))"
   ]
  },
  {
   "cell_type": "markdown",
   "id": "parallel-cincinnati",
   "metadata": {
    "papermill": {
     "duration": 0.012279,
     "end_time": "2021-06-03T16:37:52.120703",
     "exception": false,
     "start_time": "2021-06-03T16:37:52.108424",
     "status": "completed"
    },
    "tags": []
   },
   "source": [
    "We can also run into trouble if we try to use the wrong encoding to map from a string to bytes. Like I said earlier, strings are UTF-8 by default in Python 3, so if we try to treat them like they were in another encoding we'll create problems. \n",
    "\n",
    "For example, if we try to convert a string to bytes for ASCII using `encode()`, we can ask for the bytes to be what they would be if the text was in ASCII. Since our text isn't in ASCII, though, there will be some characters it can't handle. We can automatically replace the characters that ASCII can't handle. If we do that, however, any characters not in ASCII will just be replaced with the unknown character. Then, when we convert the bytes back to a string, the character will be replaced with the unknown character. The dangerous part about this is that there's not way to tell which character it *should* have been. That means we may have just made our data unusable!"
   ]
  },
  {
   "cell_type": "code",
   "execution_count": 7,
   "id": "conservative-statement",
   "metadata": {
    "execution": {
     "iopub.execute_input": "2021-06-03T16:37:52.150946Z",
     "iopub.status.busy": "2021-06-03T16:37:52.150251Z",
     "iopub.status.idle": "2021-06-03T16:37:52.154807Z",
     "shell.execute_reply": "2021-06-03T16:37:52.154318Z"
    },
    "papermill": {
     "duration": 0.02162,
     "end_time": "2021-06-03T16:37:52.154944",
     "exception": false,
     "start_time": "2021-06-03T16:37:52.133324",
     "status": "completed"
    },
    "tags": []
   },
   "outputs": [
    {
     "name": "stdout",
     "output_type": "stream",
     "text": [
      "This is the euro symbol: ?\n"
     ]
    }
   ],
   "source": [
    "# start with a string\n",
    "before = \"This is the euro symbol: €\"\n",
    "\n",
    "# encode it to a different encoding, replacing characters that raise errors\n",
    "after = before.encode(\"ascii\", errors = \"replace\")\n",
    "\n",
    "# convert it back to utf-8\n",
    "print(after.decode(\"ascii\"))\n",
    "\n",
    "# We've lost the original underlying byte string! It's been \n",
    "# replaced with the underlying byte string for the unknown character :("
   ]
  },
  {
   "cell_type": "markdown",
   "id": "affecting-animal",
   "metadata": {
    "papermill": {
     "duration": 0.012586,
     "end_time": "2021-06-03T16:37:52.180968",
     "exception": false,
     "start_time": "2021-06-03T16:37:52.168382",
     "status": "completed"
    },
    "tags": []
   },
   "source": [
    "This is bad and we want to avoid doing it! It's far better to convert all our text to UTF-8 as soon as we can and keep it in that encoding. The best time to convert non UTF-8 input into UTF-8  is when you read in files, which we'll talk about next.\n",
    "\n",
    "# Reading in files with encoding problems\n",
    "\n",
    "Most files you'll encounter will probably be encoded with UTF-8. This is what Python expects by default, so most of the time you won't run into problems. However, sometimes you'll get an error like this: "
   ]
  },
  {
   "cell_type": "code",
   "execution_count": 8,
   "id": "written-republican",
   "metadata": {
    "execution": {
     "iopub.execute_input": "2021-06-03T16:37:52.210131Z",
     "iopub.status.busy": "2021-06-03T16:37:52.209538Z",
     "iopub.status.idle": "2021-06-03T16:37:54.171384Z",
     "shell.execute_reply": "2021-06-03T16:37:54.170823Z"
    },
    "papermill": {
     "duration": 1.97765,
     "end_time": "2021-06-03T16:37:54.171519",
     "exception": false,
     "start_time": "2021-06-03T16:37:52.193869",
     "status": "completed"
    },
    "tags": []
   },
   "outputs": [
    {
     "name": "stderr",
     "output_type": "stream",
     "text": [
      "/opt/conda/lib/python3.7/site-packages/IPython/core/interactiveshell.py:3156: DtypeWarning: Columns (13,14,15) have mixed types.Specify dtype option on import or set low_memory=False.\n",
      "  interactivity=interactivity, compiler=compiler, result=result)\n"
     ]
    }
   ],
   "source": [
    "# try to read in a file not in UTF-8\n",
    "kickstarter_2016 = pd.read_csv(\"../input/kickstarter-projects/ks-projects-201612.csv\")"
   ]
  },
  {
   "cell_type": "markdown",
   "id": "departmental-furniture",
   "metadata": {
    "papermill": {
     "duration": 0.012933,
     "end_time": "2021-06-03T16:37:54.197889",
     "exception": false,
     "start_time": "2021-06-03T16:37:54.184956",
     "status": "completed"
    },
    "tags": []
   },
   "source": [
    "Notice that we get the same `UnicodeDecodeError` we got when we tried to decode UTF-8 bytes as if they were ASCII! This tells us that this file isn't actually UTF-8. We don't know what encoding it actually *is* though. One way to figure it out is to try and test a bunch of different character encodings and see if any of them work. A better way, though, is to use the chardet module to try and automatically guess what the right encoding is. It's not 100% guaranteed to be right, but it's usually faster than just trying to guess.\n",
    "\n",
    "I'm going to just look at the first ten thousand bytes of this file. This is usually enough for a good guess about what the encoding is and is much faster than trying to look at the whole file. (Especially with a  large file this can be very slow.) Another reason to just look at the first part of the file is that  we can see by looking at the error message that the first problem is the 11th character. So we probably only need to look at the first little bit of the file to figure out what's going on."
   ]
  },
  {
   "cell_type": "code",
   "execution_count": 9,
   "id": "impossible-nowhere",
   "metadata": {
    "execution": {
     "iopub.execute_input": "2021-06-03T16:37:54.229414Z",
     "iopub.status.busy": "2021-06-03T16:37:54.228743Z",
     "iopub.status.idle": "2021-06-03T16:37:54.383885Z",
     "shell.execute_reply": "2021-06-03T16:37:54.383240Z"
    },
    "papermill": {
     "duration": 0.172956,
     "end_time": "2021-06-03T16:37:54.384039",
     "exception": false,
     "start_time": "2021-06-03T16:37:54.211083",
     "status": "completed"
    },
    "tags": []
   },
   "outputs": [
    {
     "name": "stdout",
     "output_type": "stream",
     "text": [
      "{'encoding': 'Windows-1252', 'confidence': 0.73, 'language': ''}\n"
     ]
    }
   ],
   "source": [
    "# look at the first ten thousand bytes to guess the character encoding\n",
    "with open(\"../input/kickstarter-projects/ks-projects-201801.csv\", 'rb') as rawdata:\n",
    "    result = chardet.detect(rawdata.read(10000))\n",
    "\n",
    "# check what the character encoding might be\n",
    "print(result)"
   ]
  },
  {
   "cell_type": "markdown",
   "id": "divine-narrative",
   "metadata": {
    "papermill": {
     "duration": 0.013461,
     "end_time": "2021-06-03T16:37:54.411542",
     "exception": false,
     "start_time": "2021-06-03T16:37:54.398081",
     "status": "completed"
    },
    "tags": []
   },
   "source": [
    "So chardet is 73%  confidence that the right encoding is \"Windows-1252\". Let's see if that's correct:"
   ]
  },
  {
   "cell_type": "code",
   "execution_count": 10,
   "id": "apart-mongolia",
   "metadata": {
    "execution": {
     "iopub.execute_input": "2021-06-03T16:37:54.444494Z",
     "iopub.status.busy": "2021-06-03T16:37:54.443851Z",
     "iopub.status.idle": "2021-06-03T16:37:56.027890Z",
     "shell.execute_reply": "2021-06-03T16:37:56.028358Z"
    },
    "papermill": {
     "duration": 1.602927,
     "end_time": "2021-06-03T16:37:56.028517",
     "exception": false,
     "start_time": "2021-06-03T16:37:54.425590",
     "status": "completed"
    },
    "tags": []
   },
   "outputs": [
    {
     "data": {
      "text/html": [
       "<div>\n",
       "<style scoped>\n",
       "    .dataframe tbody tr th:only-of-type {\n",
       "        vertical-align: middle;\n",
       "    }\n",
       "\n",
       "    .dataframe tbody tr th {\n",
       "        vertical-align: top;\n",
       "    }\n",
       "\n",
       "    .dataframe thead th {\n",
       "        text-align: right;\n",
       "    }\n",
       "</style>\n",
       "<table border=\"1\" class=\"dataframe\">\n",
       "  <thead>\n",
       "    <tr style=\"text-align: right;\">\n",
       "      <th></th>\n",
       "      <th>ID</th>\n",
       "      <th>name</th>\n",
       "      <th>category</th>\n",
       "      <th>main_category</th>\n",
       "      <th>currency</th>\n",
       "      <th>deadline</th>\n",
       "      <th>goal</th>\n",
       "      <th>launched</th>\n",
       "      <th>pledged</th>\n",
       "      <th>state</th>\n",
       "      <th>backers</th>\n",
       "      <th>country</th>\n",
       "      <th>usd pledged</th>\n",
       "      <th>Unnamed: 13</th>\n",
       "      <th>Unnamed: 14</th>\n",
       "      <th>Unnamed: 15</th>\n",
       "      <th>Unnamed: 16</th>\n",
       "    </tr>\n",
       "  </thead>\n",
       "  <tbody>\n",
       "    <tr>\n",
       "      <th>0</th>\n",
       "      <td>1000002330</td>\n",
       "      <td>The Songs of Adelaide &amp; Abullah</td>\n",
       "      <td>Poetry</td>\n",
       "      <td>Publishing</td>\n",
       "      <td>GBP</td>\n",
       "      <td>2015-10-09 11:36:00</td>\n",
       "      <td>1000</td>\n",
       "      <td>2015-08-11 12:12:28</td>\n",
       "      <td>0</td>\n",
       "      <td>failed</td>\n",
       "      <td>0</td>\n",
       "      <td>GB</td>\n",
       "      <td>0</td>\n",
       "      <td>NaN</td>\n",
       "      <td>NaN</td>\n",
       "      <td>NaN</td>\n",
       "      <td>NaN</td>\n",
       "    </tr>\n",
       "    <tr>\n",
       "      <th>1</th>\n",
       "      <td>1000004038</td>\n",
       "      <td>Where is Hank?</td>\n",
       "      <td>Narrative Film</td>\n",
       "      <td>Film &amp; Video</td>\n",
       "      <td>USD</td>\n",
       "      <td>2013-02-26 00:20:50</td>\n",
       "      <td>45000</td>\n",
       "      <td>2013-01-12 00:20:50</td>\n",
       "      <td>220</td>\n",
       "      <td>failed</td>\n",
       "      <td>3</td>\n",
       "      <td>US</td>\n",
       "      <td>220</td>\n",
       "      <td>NaN</td>\n",
       "      <td>NaN</td>\n",
       "      <td>NaN</td>\n",
       "      <td>NaN</td>\n",
       "    </tr>\n",
       "    <tr>\n",
       "      <th>2</th>\n",
       "      <td>1000007540</td>\n",
       "      <td>ToshiCapital Rekordz Needs Help to Complete Album</td>\n",
       "      <td>Music</td>\n",
       "      <td>Music</td>\n",
       "      <td>USD</td>\n",
       "      <td>2012-04-16 04:24:11</td>\n",
       "      <td>5000</td>\n",
       "      <td>2012-03-17 03:24:11</td>\n",
       "      <td>1</td>\n",
       "      <td>failed</td>\n",
       "      <td>1</td>\n",
       "      <td>US</td>\n",
       "      <td>1</td>\n",
       "      <td>NaN</td>\n",
       "      <td>NaN</td>\n",
       "      <td>NaN</td>\n",
       "      <td>NaN</td>\n",
       "    </tr>\n",
       "    <tr>\n",
       "      <th>3</th>\n",
       "      <td>1000011046</td>\n",
       "      <td>Community Film Project: The Art of Neighborhoo...</td>\n",
       "      <td>Film &amp; Video</td>\n",
       "      <td>Film &amp; Video</td>\n",
       "      <td>USD</td>\n",
       "      <td>2015-08-29 01:00:00</td>\n",
       "      <td>19500</td>\n",
       "      <td>2015-07-04 08:35:03</td>\n",
       "      <td>1283</td>\n",
       "      <td>canceled</td>\n",
       "      <td>14</td>\n",
       "      <td>US</td>\n",
       "      <td>1283</td>\n",
       "      <td>NaN</td>\n",
       "      <td>NaN</td>\n",
       "      <td>NaN</td>\n",
       "      <td>NaN</td>\n",
       "    </tr>\n",
       "    <tr>\n",
       "      <th>4</th>\n",
       "      <td>1000014025</td>\n",
       "      <td>Monarch Espresso Bar</td>\n",
       "      <td>Restaurants</td>\n",
       "      <td>Food</td>\n",
       "      <td>USD</td>\n",
       "      <td>2016-04-01 13:38:27</td>\n",
       "      <td>50000</td>\n",
       "      <td>2016-02-26 13:38:27</td>\n",
       "      <td>52375</td>\n",
       "      <td>successful</td>\n",
       "      <td>224</td>\n",
       "      <td>US</td>\n",
       "      <td>52375</td>\n",
       "      <td>NaN</td>\n",
       "      <td>NaN</td>\n",
       "      <td>NaN</td>\n",
       "      <td>NaN</td>\n",
       "    </tr>\n",
       "  </tbody>\n",
       "</table>\n",
       "</div>"
      ],
      "text/plain": [
       "          ID                                               name   \\\n",
       "0  1000002330                    The Songs of Adelaide & Abullah   \n",
       "1  1000004038                                     Where is Hank?   \n",
       "2  1000007540  ToshiCapital Rekordz Needs Help to Complete Album   \n",
       "3  1000011046  Community Film Project: The Art of Neighborhoo...   \n",
       "4  1000014025                               Monarch Espresso Bar   \n",
       "\n",
       "        category  main_category  currency             deadline   goal   \\\n",
       "0          Poetry     Publishing       GBP  2015-10-09 11:36:00   1000   \n",
       "1  Narrative Film   Film & Video       USD  2013-02-26 00:20:50  45000   \n",
       "2           Music          Music       USD  2012-04-16 04:24:11   5000   \n",
       "3    Film & Video   Film & Video       USD  2015-08-29 01:00:00  19500   \n",
       "4     Restaurants           Food       USD  2016-04-01 13:38:27  50000   \n",
       "\n",
       "             launched  pledged       state  backers  country  usd pledged   \\\n",
       "0  2015-08-11 12:12:28        0      failed        0       GB            0   \n",
       "1  2013-01-12 00:20:50      220      failed        3       US          220   \n",
       "2  2012-03-17 03:24:11        1      failed        1       US            1   \n",
       "3  2015-07-04 08:35:03     1283    canceled       14       US         1283   \n",
       "4  2016-02-26 13:38:27    52375  successful      224       US        52375   \n",
       "\n",
       "  Unnamed: 13 Unnamed: 14 Unnamed: 15  Unnamed: 16  \n",
       "0         NaN         NaN         NaN          NaN  \n",
       "1         NaN         NaN         NaN          NaN  \n",
       "2         NaN         NaN         NaN          NaN  \n",
       "3         NaN         NaN         NaN          NaN  \n",
       "4         NaN         NaN         NaN          NaN  "
      ]
     },
     "execution_count": 10,
     "metadata": {},
     "output_type": "execute_result"
    }
   ],
   "source": [
    "# read in the file with the encoding detected by chardet\n",
    "kickstarter_2016 = pd.read_csv(\"../input/kickstarter-projects/ks-projects-201612.csv\", encoding='Windows-1252')\n",
    "\n",
    "# look at the first few lines\n",
    "kickstarter_2016.head()"
   ]
  },
  {
   "cell_type": "markdown",
   "id": "continuing-invention",
   "metadata": {
    "papermill": {
     "duration": 0.014053,
     "end_time": "2021-06-03T16:37:56.057033",
     "exception": false,
     "start_time": "2021-06-03T16:37:56.042980",
     "status": "completed"
    },
    "tags": []
   },
   "source": [
    "Yep, looks like chardet was right! The file reads in with no problem (although we do get a warning about datatypes) and when we look at the first few rows it seems to be fine. \n",
    "\n",
    "> **What if the encoding chardet guesses isn't right?** Since chardet is basically just a fancy guesser, sometimes it will guess the wrong encoding. One thing you can try is looking at more or less of the file and seeing if you get a different result and then try that.\n",
    "\n",
    "# Saving your files with UTF-8 encoding\n",
    "\n",
    "Finally, once you've gone through all the trouble of getting your file into UTF-8, you'll probably want to keep it that way. The easiest way to do that is to save your files with UTF-8 encoding. The good news is, since UTF-8 is the standard encoding in Python, when you save a file it will be saved as UTF-8 by default:"
   ]
  },
  {
   "cell_type": "code",
   "execution_count": 11,
   "id": "controlled-desperate",
   "metadata": {
    "execution": {
     "iopub.execute_input": "2021-06-03T16:37:56.089075Z",
     "iopub.status.busy": "2021-06-03T16:37:56.088485Z",
     "iopub.status.idle": "2021-06-03T16:37:57.904837Z",
     "shell.execute_reply": "2021-06-03T16:37:57.904159Z"
    },
    "papermill": {
     "duration": 1.833641,
     "end_time": "2021-06-03T16:37:57.904985",
     "exception": false,
     "start_time": "2021-06-03T16:37:56.071344",
     "status": "completed"
    },
    "tags": []
   },
   "outputs": [],
   "source": [
    "# save our file (will be saved as UTF-8 by default!)\n",
    "kickstarter_2016.to_csv(\"ks-projects-201801-utf8.csv\")"
   ]
  },
  {
   "cell_type": "markdown",
   "id": "satisfied-trade",
   "metadata": {
    "papermill": {
     "duration": 0.014029,
     "end_time": "2021-06-03T16:37:57.933434",
     "exception": false,
     "start_time": "2021-06-03T16:37:57.919405",
     "status": "completed"
    },
    "tags": []
   },
   "source": [
    "Pretty easy, huh? :)\n",
    "\n",
    "# Your turn! \n",
    "\n",
    "[**Deepen your understanding**](https://www.kaggle.com/kernels/fork/10824401) with a dataset of fatal police shootings in the US. "
   ]
  },
  {
   "cell_type": "markdown",
   "id": "stuck-quantity",
   "metadata": {
    "papermill": {
     "duration": 0.013915,
     "end_time": "2021-06-03T16:37:57.961641",
     "exception": false,
     "start_time": "2021-06-03T16:37:57.947726",
     "status": "completed"
    },
    "tags": []
   },
   "source": [
    "---\n",
    "\n",
    "\n",
    "\n",
    "\n",
    "*Have questions or comments? Visit the [Learn Discussion forum](https://www.kaggle.com/learn-forum/172650) to chat with other Learners.*"
   ]
  }
 ],
 "metadata": {
  "kernelspec": {
   "display_name": "Python 3 (ipykernel)",
   "language": "python",
   "name": "python3"
  },
  "language_info": {
   "codemirror_mode": {
    "name": "ipython",
    "version": 3
   },
   "file_extension": ".py",
   "mimetype": "text/x-python",
   "name": "python",
   "nbconvert_exporter": "python",
   "pygments_lexer": "ipython3",
   "version": "3.9.6"
  },
  "papermill": {
   "default_parameters": {},
   "duration": 12.635938,
   "end_time": "2021-06-03T16:37:58.585289",
   "environment_variables": {},
   "exception": null,
   "input_path": "__notebook__.ipynb",
   "output_path": "__notebook__.ipynb",
   "parameters": {},
   "start_time": "2021-06-03T16:37:45.949351",
   "version": "2.3.2"
  }
 },
 "nbformat": 4,
 "nbformat_minor": 5
}
