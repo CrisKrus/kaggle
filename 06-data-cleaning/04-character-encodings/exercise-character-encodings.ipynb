{
 "cells": [
  {
   "cell_type": "markdown",
   "metadata": {},
   "source": [
    "**This notebook is an exercise in the [Data Cleaning](https://www.kaggle.com/learn/data-cleaning) course.  You can reference the tutorial at [this link](https://www.kaggle.com/alexisbcook/character-encodings).**\n",
    "\n",
    "---\n"
   ]
  },
  {
   "cell_type": "markdown",
   "metadata": {},
   "source": [
    "In this exercise, you'll apply what you learned in the **Character encodings** tutorial.\n",
    "\n",
    "# Setup\n",
    "\n",
    "The questions below will give you feedback on your work. Run the following cell to set up the feedback system."
   ]
  },
  {
   "cell_type": "code",
   "execution_count": null,
   "metadata": {
    "execution": {
     "iopub.execute_input": "2021-07-13T16:38:11.420137Z",
     "iopub.status.busy": "2021-07-13T16:38:11.419648Z",
     "iopub.status.idle": "2021-07-13T16:38:11.610759Z",
     "shell.execute_reply": "2021-07-13T16:38:11.609872Z",
     "shell.execute_reply.started": "2021-07-13T16:38:11.420041Z"
    }
   },
   "outputs": [],
   "source": [
    "from learntools.core import binder\n",
    "binder.bind(globals())\n",
    "from learntools.data_cleaning.ex4 import *\n",
    "print(\"Setup Complete\")"
   ]
  },
  {
   "cell_type": "markdown",
   "metadata": {},
   "source": [
    "# Get our environment set up\n",
    "\n",
    "The first thing we'll need to do is load in the libraries we'll be using."
   ]
  },
  {
   "cell_type": "code",
   "execution_count": null,
   "metadata": {
    "execution": {
     "iopub.execute_input": "2021-07-13T16:38:11.612538Z",
     "iopub.status.busy": "2021-07-13T16:38:11.61204Z",
     "iopub.status.idle": "2021-07-13T16:38:11.616995Z",
     "shell.execute_reply": "2021-07-13T16:38:11.616103Z",
     "shell.execute_reply.started": "2021-07-13T16:38:11.612507Z"
    }
   },
   "outputs": [],
   "source": [
    "# modules we'll use\n",
    "import pandas as pd\n",
    "import numpy as np\n",
    "\n",
    "# helpful character encoding module\n",
    "import chardet\n",
    "\n",
    "# set seed for reproducibility\n",
    "np.random.seed(0)"
   ]
  },
  {
   "cell_type": "markdown",
   "metadata": {},
   "source": [
    "# 1) What are encodings?\n",
    "\n",
    "You're working with a dataset composed of bytes.  Run the code cell below to print a sample entry."
   ]
  },
  {
   "cell_type": "code",
   "execution_count": null,
   "metadata": {
    "execution": {
     "iopub.execute_input": "2021-07-13T16:38:11.619055Z",
     "iopub.status.busy": "2021-07-13T16:38:11.618631Z",
     "iopub.status.idle": "2021-07-13T16:38:11.633854Z",
     "shell.execute_reply": "2021-07-13T16:38:11.632649Z",
     "shell.execute_reply.started": "2021-07-13T16:38:11.619024Z"
    }
   },
   "outputs": [],
   "source": [
    "sample_entry = b'\\xa7A\\xa6n'\n",
    "print(sample_entry)\n",
    "print('data type:', type(sample_entry))"
   ]
  },
  {
   "cell_type": "markdown",
   "metadata": {},
   "source": [
    "You notice that it doesn't use the standard UTF-8 encoding. \n",
    "\n",
    "Use the next code cell to create a variable `new_entry` that changes the encoding from `\"big5-tw\"` to `\"utf-8\"`.  `new_entry` should have the bytes datatype."
   ]
  },
  {
   "cell_type": "code",
   "execution_count": null,
   "metadata": {
    "execution": {
     "iopub.execute_input": "2021-07-13T16:59:11.887084Z",
     "iopub.status.busy": "2021-07-13T16:59:11.886738Z",
     "iopub.status.idle": "2021-07-13T16:59:11.897309Z",
     "shell.execute_reply": "2021-07-13T16:59:11.895881Z",
     "shell.execute_reply.started": "2021-07-13T16:59:11.887055Z"
    }
   },
   "outputs": [],
   "source": [
    "new_entry = sample_entry.decode('big5-tw').encode('utf-8')\n",
    "\n",
    "# Check your answer\n",
    "q1.check()"
   ]
  },
  {
   "cell_type": "code",
   "execution_count": null,
   "metadata": {
    "execution": {
     "iopub.execute_input": "2021-07-13T16:38:11.654207Z",
     "iopub.status.busy": "2021-07-13T16:38:11.653895Z",
     "iopub.status.idle": "2021-07-13T16:38:11.657498Z",
     "shell.execute_reply": "2021-07-13T16:38:11.656785Z",
     "shell.execute_reply.started": "2021-07-13T16:38:11.654153Z"
    }
   },
   "outputs": [],
   "source": [
    "# Lines below will give you a hint or solution code\n",
    "#q1.hint()\n",
    "#q1.solution()"
   ]
  },
  {
   "cell_type": "markdown",
   "metadata": {},
   "source": [
    "# 2) Reading in files with encoding problems\n",
    "\n",
    "Use the code cell below to read in this file at path `\"../input/fatal-police-shootings-in-the-us/PoliceKillingsUS.csv\"`.  \n",
    "\n",
    "Figure out what the correct encoding should be and read in the file to a DataFrame `police_killings`."
   ]
  },
  {
   "cell_type": "code",
   "execution_count": null,
   "metadata": {
    "execution": {
     "iopub.execute_input": "2021-07-13T17:03:45.908309Z",
     "iopub.status.busy": "2021-07-13T17:03:45.907934Z",
     "iopub.status.idle": "2021-07-13T17:03:45.932546Z",
     "shell.execute_reply": "2021-07-13T17:03:45.931799Z",
     "shell.execute_reply.started": "2021-07-13T17:03:45.908279Z"
    }
   },
   "outputs": [],
   "source": [
    "# TODO: Load in the DataFrame correctly.\n",
    "police_killings = pd.read_csv('../input/fatal-police-shootings-in-the-us/PoliceKillingsUS.csv')\n",
    "\n",
    "# Check your answer\n",
    "q2.check()"
   ]
  },
  {
   "cell_type": "markdown",
   "metadata": {},
   "source": [
    "Feel free to use any additional code cells for supplemental work.  To get credit for finishing this question, you'll need to run `q2.check()` and get a result of **Correct**."
   ]
  },
  {
   "cell_type": "code",
   "execution_count": null,
   "metadata": {
    "execution": {
     "iopub.execute_input": "2021-07-13T17:04:56.104021Z",
     "iopub.status.busy": "2021-07-13T17:04:56.103545Z",
     "iopub.status.idle": "2021-07-13T17:04:56.130615Z",
     "shell.execute_reply": "2021-07-13T17:04:56.129676Z",
     "shell.execute_reply.started": "2021-07-13T17:04:56.103981Z"
    }
   },
   "outputs": [],
   "source": [
    "# (Optional) Use this code cell for any additional work.\n",
    "\n",
    "police_killings.sample(10)"
   ]
  },
  {
   "cell_type": "code",
   "execution_count": null,
   "metadata": {
    "execution": {
     "iopub.execute_input": "2021-07-13T17:01:30.017581Z",
     "iopub.status.busy": "2021-07-13T17:01:30.017246Z",
     "iopub.status.idle": "2021-07-13T17:01:30.023984Z",
     "shell.execute_reply": "2021-07-13T17:01:30.023367Z",
     "shell.execute_reply.started": "2021-07-13T17:01:30.017552Z"
    }
   },
   "outputs": [],
   "source": [
    "# Lines below will give you a hint or solution code\n",
    "#q2.hint()\n",
    "q2.solution()"
   ]
  },
  {
   "cell_type": "markdown",
   "metadata": {},
   "source": [
    "# 3) Saving your files with UTF-8 encoding\n",
    "\n",
    "Save a version of the police killings dataset to CSV with UTF-8 encoding.  Your answer will be marked correct after saving this file.  \n",
    "\n",
    "Note: When using the `to_csv()` method, supply only the name of the file (e.g., `\"my_file.csv\"`).  This saves the file at the filepath `\"/kaggle/working/my_file.csv\"`."
   ]
  },
  {
   "cell_type": "code",
   "execution_count": null,
   "metadata": {
    "execution": {
     "iopub.execute_input": "2021-07-13T17:05:55.404687Z",
     "iopub.status.busy": "2021-07-13T17:05:55.404259Z",
     "iopub.status.idle": "2021-07-13T17:05:55.450226Z",
     "shell.execute_reply": "2021-07-13T17:05:55.4496Z",
     "shell.execute_reply.started": "2021-07-13T17:05:55.404652Z"
    }
   },
   "outputs": [],
   "source": [
    "# TODO: Save the police killings dataset to CSV\n",
    "police_killings.to_csv('/kaggle/working/my_file.csv')\n",
    "\n",
    "# Check your answer\n",
    "q3.check()"
   ]
  },
  {
   "cell_type": "code",
   "execution_count": null,
   "metadata": {
    "execution": {
     "iopub.execute_input": "2021-07-13T16:38:11.720536Z",
     "iopub.status.busy": "2021-07-13T16:38:11.720049Z",
     "iopub.status.idle": "2021-07-13T16:38:11.728733Z",
     "shell.execute_reply": "2021-07-13T16:38:11.727895Z",
     "shell.execute_reply.started": "2021-07-13T16:38:11.720506Z"
    }
   },
   "outputs": [],
   "source": [
    "# Lines below will give you a hint or solution code\n",
    "#q3.hint()\n",
    "#q3.solution()"
   ]
  },
  {
   "cell_type": "markdown",
   "metadata": {},
   "source": [
    "# (Optional) More practice\n",
    "\n",
    "Check out [this dataset of files in different character encodings](https://www.kaggle.com/rtatman/character-encoding-examples). Can you read in all the files with their original encodings and them save them out as UTF-8 files?\n",
    "\n",
    "If you have a file that's in UTF-8 but has just a couple of weird-looking characters in it, you can try out the [ftfy module](https://ftfy.readthedocs.io/en/latest/#) and see if it helps. \n",
    "\n",
    "# Keep going\n",
    "\n",
    "In the final lesson, learn how to [**clean up inconsistent text entries**](https://www.kaggle.com/alexisbcook/inconsistent-data-entry) in your dataset."
   ]
  },
  {
   "cell_type": "markdown",
   "metadata": {},
   "source": [
    "---\n",
    "\n",
    "\n",
    "\n",
    "\n",
    "*Have questions or comments? Visit the [Learn Discussion forum](https://www.kaggle.com/learn-forum/172650) to chat with other Learners.*"
   ]
  }
 ],
 "metadata": {
  "kernelspec": {
   "display_name": "Python 3 (ipykernel)",
   "language": "python",
   "name": "python3"
  },
  "language_info": {
   "codemirror_mode": {
    "name": "ipython",
    "version": 3
   },
   "file_extension": ".py",
   "mimetype": "text/x-python",
   "name": "python",
   "nbconvert_exporter": "python",
   "pygments_lexer": "ipython3",
   "version": "3.9.6"
  }
 },
 "nbformat": 4,
 "nbformat_minor": 4
}
