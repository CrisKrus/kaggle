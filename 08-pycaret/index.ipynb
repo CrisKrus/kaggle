{
 "cells": [
  {
   "cell_type": "markdown",
   "id": "8668142e-4da4-43fa-aed3-00e2ac579c21",
   "metadata": {},
   "source": [
    "# PyCaret\n",
    "\n",
    "Recursos:\n",
    "- https://github.com/pycaret/pycaret\n",
    "- https://pycaret.org/\n",
    "- https://github.com/pycaret/pycaret/blob/master/tutorials/"
   ]
  },
  {
   "cell_type": "code",
   "execution_count": null,
   "id": "198867af-0197-4479-815c-fedc2c6e7819",
   "metadata": {},
   "outputs": [],
   "source": []
  }
 ],
 "metadata": {
  "kernelspec": {
   "display_name": "Python 3 (ipykernel)",
   "language": "python",
   "name": "python3"
  },
  "language_info": {
   "codemirror_mode": {
    "name": "ipython",
    "version": 3
   },
   "file_extension": ".py",
   "mimetype": "text/x-python",
   "name": "python",
   "nbconvert_exporter": "python",
   "pygments_lexer": "ipython3",
   "version": "3.9.6"
  }
 },
 "nbformat": 4,
 "nbformat_minor": 5
}
