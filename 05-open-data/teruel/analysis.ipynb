{
 "cells": [
  {
   "cell_type": "markdown",
   "id": "58693faf-536a-4e0f-8774-9f51729e30ee",
   "metadata": {},
   "source": [
    "- Leer los diferentes pagos\n",
    "- ver gastos totales por pago\n",
    "- relacionar pagos con entidades\n",
    "- ver entidades con mas gastos/ingresos\n",
    "- etc"
   ]
  },
  {
   "cell_type": "code",
   "execution_count": 1,
   "id": "4a5392a2-8aff-4133-8d4f-ab8d43ad3d05",
   "metadata": {},
   "outputs": [],
   "source": [
    "import os\n",
    "import pandas as pd\n",
    "import matplotlib.pyplot as plt\n",
    "%matplotlib inline\n",
    "import seaborn as sns"
   ]
  },
  {
   "cell_type": "code",
   "execution_count": 2,
   "id": "ce639766-b7b5-44cc-b56c-85f367d52be1",
   "metadata": {},
   "outputs": [
    {
     "name": "stdout",
     "output_type": "stream",
     "text": [
      "total amount for  payment_trimloc2017-anexo5_Capitulo2.csv 1038.1399999999999\n",
      "total amount for  payment_trimloc2017-anexo5_Capitulo4.csv 875696.53\n",
      "total amount for  payment_trimloc2017-anexo5_Capitulo6.csv 113.5\n",
      "total amount for  payment_trimloc2017-anexo5_Capitulo8.csv 95944.02\n",
      "total amount for  payment_trimloc2017-econ-gast-importes_EstimacionCreditosDefinitivosAFinEjercicioCorriente.csv 378481403.2600001\n",
      "total amount for  payment_trimloc2017-econ-gast-importes_EstimacionObligacionesReconocidasNetasA31Del12.csv 375702492.11000013\n",
      "total amount for  payment_trimloc2017-econ-gast-importes_ObligacionesReconocidasDelEjercicioCorriente.csv 25892861.080000002\n",
      "total amount for  payment_trimloc2017-econ-gast-importes_PagosLiquidosDeEjerciciosCerrados.csv 19449643.770000003\n",
      "total amount for  payment_trimloc2017-econ-gast-importes_PagosRealizadosDelEjercicioCorriente.csv 25640767.790000003\n",
      "total amount for  payment_trimloc2017-econ-ingr-importes_DerechosReconocidosDelEjercicioCorriente.csv 53977408.64000001\n",
      "total amount for  payment_trimloc2017-econ-ingr-importes_EstimacionDerechosReconocidosNetosA31Del12.csv 436847778.46000004\n",
      "total amount for  payment_trimloc2017-econ-ingr-importes_EstimacionPrevisionDefinivaAFinEjercicioCorriente.csv 436813581.23\n",
      "total amount for  payment_trimloc2017-econ-ingr-importes_RecaudacionLiquidaDeEjerciciosCerrados.csv 897957.7200000001\n",
      "total amount for  payment_trimloc2017-econ-ingr-importes_RecaudacionLiquidaDelEjercicioCorriente.csv 53811324.38\n",
      "total amount for  payment_trimloc2017-remt_ImporteEjercicioActual.csv 287242552.08\n"
     ]
    }
   ],
   "source": [
    "input_files_path = './input'\n",
    "files = os.listdir(input_files_path)\n",
    "\n",
    "for file in files:\n",
    "    if os.path.isfile(os.path.join(input_files_path, file)):\n",
    "        if 'payment' in file:\n",
    "            path = os.path.join(input_files_path, file)\n",
    "            entities = pd.read_csv(path)\n",
    "            amount = entities.amount.sum()\n",
    "            if amount != 0.0:\n",
    "                print('total amount for ', file, amount)"
   ]
  },
  {
   "cell_type": "code",
   "execution_count": 3,
   "id": "aa538111-e5cb-480b-a66e-e368658f60b7",
   "metadata": {},
   "outputs": [
    {
     "data": {
      "text/html": [
       "<div>\n",
       "<style scoped>\n",
       "    .dataframe tbody tr th:only-of-type {\n",
       "        vertical-align: middle;\n",
       "    }\n",
       "\n",
       "    .dataframe tbody tr th {\n",
       "        vertical-align: top;\n",
       "    }\n",
       "\n",
       "    .dataframe thead th {\n",
       "        text-align: right;\n",
       "    }\n",
       "</style>\n",
       "<table border=\"1\" class=\"dataframe\">\n",
       "  <thead>\n",
       "    <tr style=\"text-align: right;\">\n",
       "      <th></th>\n",
       "      <th>id</th>\n",
       "      <th>entity</th>\n",
       "      <th>period</th>\n",
       "      <th>explicit_member</th>\n",
       "      <th>typed_member</th>\n",
       "      <th>dimension</th>\n",
       "      <th>typed_member_value</th>\n",
       "    </tr>\n",
       "  </thead>\n",
       "  <tbody>\n",
       "    <tr>\n",
       "      <th>count</th>\n",
       "      <td>1049</td>\n",
       "      <td>1049</td>\n",
       "      <td>1049</td>\n",
       "      <td>738</td>\n",
       "      <td>310</td>\n",
       "      <td>1048</td>\n",
       "      <td>310</td>\n",
       "    </tr>\n",
       "    <tr>\n",
       "      <th>unique</th>\n",
       "      <td>1049</td>\n",
       "      <td>1</td>\n",
       "      <td>1</td>\n",
       "      <td>738</td>\n",
       "      <td>5</td>\n",
       "      <td>10</td>\n",
       "      <td>303</td>\n",
       "    </tr>\n",
       "    <tr>\n",
       "      <th>top</th>\n",
       "      <td>IdContextoDatosBasicos</td>\n",
       "      <td>EXCMA.DIPUTACION PROVINCIAL TERUEL</td>\n",
       "      <td>2021-03-31</td>\n",
       "      <td>trimloc2017-econ-ingr-cuentas:EconomicaIngresos</td>\n",
       "      <td>trimloc2017-anexo5:Filasdimension</td>\n",
       "      <td>trimloc2017-econ-gast:Cuentasdimension</td>\n",
       "      <td>Primer aval</td>\n",
       "    </tr>\n",
       "    <tr>\n",
       "      <th>freq</th>\n",
       "      <td>1</td>\n",
       "      <td>1049</td>\n",
       "      <td>1049</td>\n",
       "      <td>1</td>\n",
       "      <td>300</td>\n",
       "      <td>372</td>\n",
       "      <td>4</td>\n",
       "    </tr>\n",
       "  </tbody>\n",
       "</table>\n",
       "</div>"
      ],
      "text/plain": [
       "                            id                                    entity  \\\n",
       "count                     1049                                      1049   \n",
       "unique                    1049                                         1   \n",
       "top     IdContextoDatosBasicos  EXCMA.DIPUTACION PROVINCIAL TERUEL         \n",
       "freq                         1                                      1049   \n",
       "\n",
       "            period                                  explicit_member  \\\n",
       "count         1049                                              738   \n",
       "unique           1                                              738   \n",
       "top     2021-03-31  trimloc2017-econ-ingr-cuentas:EconomicaIngresos   \n",
       "freq          1049                                                1   \n",
       "\n",
       "                             typed_member  \\\n",
       "count                                 310   \n",
       "unique                                  5   \n",
       "top     trimloc2017-anexo5:Filasdimension   \n",
       "freq                                  300   \n",
       "\n",
       "                                     dimension typed_member_value  \n",
       "count                                     1048                310  \n",
       "unique                                      10                303  \n",
       "top     trimloc2017-econ-gast:Cuentasdimension        Primer aval  \n",
       "freq                                       372                  4  "
      ]
     },
     "execution_count": 3,
     "metadata": {},
     "output_type": "execute_result"
    }
   ],
   "source": [
    "entities = pd.read_csv('./input/entities.csv')\n",
    "entities.describe()"
   ]
  },
  {
   "cell_type": "code",
   "execution_count": 4,
   "id": "349a991f-88c6-4293-ac31-206e49f75a17",
   "metadata": {},
   "outputs": [
    {
     "data": {
      "text/plain": [
       "array([nan,\n",
       "       'trimloc2017-anexo4:AvalesEjecutadosClasificacionEconomicaDeGastosDimensionDeFilas',\n",
       "       'trimloc2017-anexo4:AvalesReintegradosClasificacionEconomicaDeIngresosDimensionDeFilas',\n",
       "       'trimloc2017-anexo4:AvalesEjecutadosConceptosNoPresupuestariosDimensionDeFilas',\n",
       "       'trimloc2017-anexo4:AvalesReintegradosConceptosNoPresupuestariosDimensionDeFilas',\n",
       "       'trimloc2017-anexo5:Filasdimension'], dtype=object)"
      ]
     },
     "execution_count": 4,
     "metadata": {},
     "output_type": "execute_result"
    }
   ],
   "source": [
    "entities['typed_member'].unique()"
   ]
  },
  {
   "cell_type": "code",
   "execution_count": 5,
   "id": "8534bcdd-662e-4340-b901-13e20614190f",
   "metadata": {
    "tags": []
   },
   "outputs": [
    {
     "data": {
      "text/html": [
       "<div>\n",
       "<style scoped>\n",
       "    .dataframe tbody tr th:only-of-type {\n",
       "        vertical-align: middle;\n",
       "    }\n",
       "\n",
       "    .dataframe tbody tr th {\n",
       "        vertical-align: top;\n",
       "    }\n",
       "\n",
       "    .dataframe thead th {\n",
       "        text-align: right;\n",
       "    }\n",
       "</style>\n",
       "<table border=\"1\" class=\"dataframe\">\n",
       "  <thead>\n",
       "    <tr style=\"text-align: right;\">\n",
       "      <th></th>\n",
       "      <th>decimals</th>\n",
       "      <th>reference</th>\n",
       "      <th>currency</th>\n",
       "      <th>amount</th>\n",
       "    </tr>\n",
       "  </thead>\n",
       "  <tbody>\n",
       "    <tr>\n",
       "      <th>0</th>\n",
       "      <td>0</td>\n",
       "      <td>IdContextosAnexo5_Transferencia1</td>\n",
       "      <td>euro</td>\n",
       "      <td>10.79</td>\n",
       "    </tr>\n",
       "    <tr>\n",
       "      <th>2</th>\n",
       "      <td>0</td>\n",
       "      <td>IdContextosAnexo5_Transferencia3</td>\n",
       "      <td>euro</td>\n",
       "      <td>776.21</td>\n",
       "    </tr>\n",
       "    <tr>\n",
       "      <th>5</th>\n",
       "      <td>0</td>\n",
       "      <td>IdContextosAnexo5_Transferencia6</td>\n",
       "      <td>euro</td>\n",
       "      <td>96.60</td>\n",
       "    </tr>\n",
       "    <tr>\n",
       "      <th>6</th>\n",
       "      <td>0</td>\n",
       "      <td>IdContextosAnexo5_Transferencia7</td>\n",
       "      <td>euro</td>\n",
       "      <td>154.54</td>\n",
       "    </tr>\n",
       "  </tbody>\n",
       "</table>\n",
       "</div>"
      ],
      "text/plain": [
       "   decimals                         reference currency  amount\n",
       "0         0  IdContextosAnexo5_Transferencia1     euro   10.79\n",
       "2         0  IdContextosAnexo5_Transferencia3     euro  776.21\n",
       "5         0  IdContextosAnexo5_Transferencia6     euro   96.60\n",
       "6         0  IdContextosAnexo5_Transferencia7     euro  154.54"
      ]
     },
     "execution_count": 5,
     "metadata": {},
     "output_type": "execute_result"
    }
   ],
   "source": [
    "anexo5_Capitulo2 = pd.read_csv('./input/payment_trimloc2017-anexo5_Capitulo2.csv', index_col=0)\n",
    "anexo5_Capitulo2 = anexo5_Capitulo2[anexo5_Capitulo2.amount != 0.0]\n",
    "anexo5_Capitulo2.head()"
   ]
  },
  {
   "cell_type": "code",
   "execution_count": 6,
   "id": "d3ce9286-8ea2-40f7-b5eb-62f3a1d7530e",
   "metadata": {
    "tags": []
   },
   "outputs": [
    {
     "data": {
      "text/html": [
       "<div>\n",
       "<style scoped>\n",
       "    .dataframe tbody tr th:only-of-type {\n",
       "        vertical-align: middle;\n",
       "    }\n",
       "\n",
       "    .dataframe tbody tr th {\n",
       "        vertical-align: top;\n",
       "    }\n",
       "\n",
       "    .dataframe thead th {\n",
       "        text-align: right;\n",
       "    }\n",
       "</style>\n",
       "<table border=\"1\" class=\"dataframe\">\n",
       "  <thead>\n",
       "    <tr style=\"text-align: right;\">\n",
       "      <th></th>\n",
       "      <th>decimals</th>\n",
       "      <th>amount</th>\n",
       "    </tr>\n",
       "  </thead>\n",
       "  <tbody>\n",
       "    <tr>\n",
       "      <th>count</th>\n",
       "      <td>4.0</td>\n",
       "      <td>4.000000</td>\n",
       "    </tr>\n",
       "    <tr>\n",
       "      <th>mean</th>\n",
       "      <td>0.0</td>\n",
       "      <td>259.535000</td>\n",
       "    </tr>\n",
       "    <tr>\n",
       "      <th>std</th>\n",
       "      <td>0.0</td>\n",
       "      <td>349.475271</td>\n",
       "    </tr>\n",
       "    <tr>\n",
       "      <th>min</th>\n",
       "      <td>0.0</td>\n",
       "      <td>10.790000</td>\n",
       "    </tr>\n",
       "    <tr>\n",
       "      <th>25%</th>\n",
       "      <td>0.0</td>\n",
       "      <td>75.147500</td>\n",
       "    </tr>\n",
       "    <tr>\n",
       "      <th>50%</th>\n",
       "      <td>0.0</td>\n",
       "      <td>125.570000</td>\n",
       "    </tr>\n",
       "    <tr>\n",
       "      <th>75%</th>\n",
       "      <td>0.0</td>\n",
       "      <td>309.957500</td>\n",
       "    </tr>\n",
       "    <tr>\n",
       "      <th>max</th>\n",
       "      <td>0.0</td>\n",
       "      <td>776.210000</td>\n",
       "    </tr>\n",
       "  </tbody>\n",
       "</table>\n",
       "</div>"
      ],
      "text/plain": [
       "       decimals      amount\n",
       "count       4.0    4.000000\n",
       "mean        0.0  259.535000\n",
       "std         0.0  349.475271\n",
       "min         0.0   10.790000\n",
       "25%         0.0   75.147500\n",
       "50%         0.0  125.570000\n",
       "75%         0.0  309.957500\n",
       "max         0.0  776.210000"
      ]
     },
     "execution_count": 6,
     "metadata": {},
     "output_type": "execute_result"
    }
   ],
   "source": [
    "anexo5_Capitulo2.describe()"
   ]
  },
  {
   "cell_type": "code",
   "execution_count": 7,
   "id": "b25b20ab-6253-4632-8055-9b338b3910db",
   "metadata": {
    "tags": []
   },
   "outputs": [
    {
     "data": {
      "text/html": [
       "<div>\n",
       "<style scoped>\n",
       "    .dataframe tbody tr th:only-of-type {\n",
       "        vertical-align: middle;\n",
       "    }\n",
       "\n",
       "    .dataframe tbody tr th {\n",
       "        vertical-align: top;\n",
       "    }\n",
       "\n",
       "    .dataframe thead th {\n",
       "        text-align: right;\n",
       "    }\n",
       "</style>\n",
       "<table border=\"1\" class=\"dataframe\">\n",
       "  <thead>\n",
       "    <tr style=\"text-align: right;\">\n",
       "      <th></th>\n",
       "      <th>decimals</th>\n",
       "      <th>reference</th>\n",
       "      <th>currency</th>\n",
       "      <th>amount</th>\n",
       "    </tr>\n",
       "  </thead>\n",
       "  <tbody>\n",
       "    <tr>\n",
       "      <th>0</th>\n",
       "      <td>2</td>\n",
       "      <td>IdContextosEconomicaGastos_OrganosDeGobiernoYP...</td>\n",
       "      <td>euro</td>\n",
       "      <td>993006.93</td>\n",
       "    </tr>\n",
       "    <tr>\n",
       "      <th>1</th>\n",
       "      <td>2</td>\n",
       "      <td>IdContextosEconomicaGastos_RetribucionesBasica...</td>\n",
       "      <td>euro</td>\n",
       "      <td>993006.93</td>\n",
       "    </tr>\n",
       "    <tr>\n",
       "      <th>2</th>\n",
       "      <td>2</td>\n",
       "      <td>IdContextosEconomicaGastos_OrganosDeGobiernoYP...</td>\n",
       "      <td>euro</td>\n",
       "      <td>993006.93</td>\n",
       "    </tr>\n",
       "    <tr>\n",
       "      <th>3</th>\n",
       "      <td>2</td>\n",
       "      <td>IdContextosEconomicaGastos_PersonalEventual_Re...</td>\n",
       "      <td>euro</td>\n",
       "      <td>101119.27</td>\n",
       "    </tr>\n",
       "    <tr>\n",
       "      <th>4</th>\n",
       "      <td>2</td>\n",
       "      <td>IdContextosEconomicaGastos_PersonalEventual_Re...</td>\n",
       "      <td>euro</td>\n",
       "      <td>156655.90</td>\n",
       "    </tr>\n",
       "  </tbody>\n",
       "</table>\n",
       "</div>"
      ],
      "text/plain": [
       "   decimals                                          reference currency  \\\n",
       "0         2  IdContextosEconomicaGastos_OrganosDeGobiernoYP...     euro   \n",
       "1         2  IdContextosEconomicaGastos_RetribucionesBasica...     euro   \n",
       "2         2  IdContextosEconomicaGastos_OrganosDeGobiernoYP...     euro   \n",
       "3         2  IdContextosEconomicaGastos_PersonalEventual_Re...     euro   \n",
       "4         2  IdContextosEconomicaGastos_PersonalEventual_Re...     euro   \n",
       "\n",
       "      amount  \n",
       "0  993006.93  \n",
       "1  993006.93  \n",
       "2  993006.93  \n",
       "3  101119.27  \n",
       "4  156655.90  "
      ]
     },
     "execution_count": 7,
     "metadata": {},
     "output_type": "execute_result"
    }
   ],
   "source": [
    "EstimacionCreditosDefinitivosAFinEjercicioCorriente = pd.read_csv('./input/payment_trimloc2017-econ-gast-importes_EstimacionCreditosDefinitivosAFinEjercicioCorriente.csv', index_col=0)\n",
    "EstimacionCreditosDefinitivosAFinEjercicioCorriente = EstimacionCreditosDefinitivosAFinEjercicioCorriente[EstimacionCreditosDefinitivosAFinEjercicioCorriente.amount != 0.0]\n",
    "EstimacionCreditosDefinitivosAFinEjercicioCorriente.head()"
   ]
  },
  {
   "cell_type": "code",
   "execution_count": 8,
   "id": "2cb6544a-def1-4f1a-bc59-a9068620b88b",
   "metadata": {},
   "outputs": [
    {
     "data": {
      "text/html": [
       "<div>\n",
       "<style scoped>\n",
       "    .dataframe tbody tr th:only-of-type {\n",
       "        vertical-align: middle;\n",
       "    }\n",
       "\n",
       "    .dataframe tbody tr th {\n",
       "        vertical-align: top;\n",
       "    }\n",
       "\n",
       "    .dataframe thead th {\n",
       "        text-align: right;\n",
       "    }\n",
       "</style>\n",
       "<table border=\"1\" class=\"dataframe\">\n",
       "  <thead>\n",
       "    <tr style=\"text-align: right;\">\n",
       "      <th></th>\n",
       "      <th>decimals</th>\n",
       "      <th>amount</th>\n",
       "    </tr>\n",
       "  </thead>\n",
       "  <tbody>\n",
       "    <tr>\n",
       "      <th>count</th>\n",
       "      <td>167.0</td>\n",
       "      <td>1.670000e+02</td>\n",
       "    </tr>\n",
       "    <tr>\n",
       "      <th>mean</th>\n",
       "      <td>2.0</td>\n",
       "      <td>2.266356e+06</td>\n",
       "    </tr>\n",
       "    <tr>\n",
       "      <th>std</th>\n",
       "      <td>0.0</td>\n",
       "      <td>5.809076e+06</td>\n",
       "    </tr>\n",
       "    <tr>\n",
       "      <th>min</th>\n",
       "      <td>2.0</td>\n",
       "      <td>7.000000e+02</td>\n",
       "    </tr>\n",
       "    <tr>\n",
       "      <th>25%</th>\n",
       "      <td>2.0</td>\n",
       "      <td>4.948985e+04</td>\n",
       "    </tr>\n",
       "    <tr>\n",
       "      <th>50%</th>\n",
       "      <td>2.0</td>\n",
       "      <td>2.139179e+05</td>\n",
       "    </tr>\n",
       "    <tr>\n",
       "      <th>75%</th>\n",
       "      <td>2.0</td>\n",
       "      <td>1.074776e+06</td>\n",
       "    </tr>\n",
       "    <tr>\n",
       "      <th>max</th>\n",
       "      <td>2.0</td>\n",
       "      <td>3.533054e+07</td>\n",
       "    </tr>\n",
       "  </tbody>\n",
       "</table>\n",
       "</div>"
      ],
      "text/plain": [
       "       decimals        amount\n",
       "count     167.0  1.670000e+02\n",
       "mean        2.0  2.266356e+06\n",
       "std         0.0  5.809076e+06\n",
       "min         2.0  7.000000e+02\n",
       "25%         2.0  4.948985e+04\n",
       "50%         2.0  2.139179e+05\n",
       "75%         2.0  1.074776e+06\n",
       "max         2.0  3.533054e+07"
      ]
     },
     "execution_count": 8,
     "metadata": {},
     "output_type": "execute_result"
    }
   ],
   "source": [
    "EstimacionCreditosDefinitivosAFinEjercicioCorriente.describe()"
   ]
  },
  {
   "cell_type": "code",
   "execution_count": 9,
   "id": "e5b006d5-1ee1-4851-86fa-ea19bf0fa04a",
   "metadata": {},
   "outputs": [],
   "source": [
    "reference = EstimacionCreditosDefinitivosAFinEjercicioCorriente.reference[0]"
   ]
  },
  {
   "cell_type": "code",
   "execution_count": 10,
   "id": "b796ac92-ad62-4e16-84dc-15cfbdbcbd7d",
   "metadata": {},
   "outputs": [
    {
     "data": {
      "text/html": [
       "<div>\n",
       "<style scoped>\n",
       "    .dataframe tbody tr th:only-of-type {\n",
       "        vertical-align: middle;\n",
       "    }\n",
       "\n",
       "    .dataframe tbody tr th {\n",
       "        vertical-align: top;\n",
       "    }\n",
       "\n",
       "    .dataframe thead th {\n",
       "        text-align: right;\n",
       "    }\n",
       "</style>\n",
       "<table border=\"1\" class=\"dataframe\">\n",
       "  <thead>\n",
       "    <tr style=\"text-align: right;\">\n",
       "      <th></th>\n",
       "      <th>id</th>\n",
       "      <th>entity</th>\n",
       "      <th>period</th>\n",
       "      <th>explicit_member</th>\n",
       "      <th>typed_member</th>\n",
       "      <th>dimension</th>\n",
       "      <th>typed_member_value</th>\n",
       "    </tr>\n",
       "  </thead>\n",
       "  <tbody>\n",
       "    <tr>\n",
       "      <th>573</th>\n",
       "      <td>IdContextosEconomicaGastos_OrganosDeGobiernoYP...</td>\n",
       "      <td>EXCMA.DIPUTACION PROVINCIAL TERUEL</td>\n",
       "      <td>2021-03-31</td>\n",
       "      <td>trimloc2017-econ-gast-cuentas:OrganosDeGobiern...</td>\n",
       "      <td>NaN</td>\n",
       "      <td>trimloc2017-econ-gast:Cuentasdimension</td>\n",
       "      <td>NaN</td>\n",
       "    </tr>\n",
       "  </tbody>\n",
       "</table>\n",
       "</div>"
      ],
      "text/plain": [
       "                                                    id  \\\n",
       "573  IdContextosEconomicaGastos_OrganosDeGobiernoYP...   \n",
       "\n",
       "                                       entity      period  \\\n",
       "573  EXCMA.DIPUTACION PROVINCIAL TERUEL        2021-03-31   \n",
       "\n",
       "                                       explicit_member typed_member  \\\n",
       "573  trimloc2017-econ-gast-cuentas:OrganosDeGobiern...          NaN   \n",
       "\n",
       "                                  dimension typed_member_value  \n",
       "573  trimloc2017-econ-gast:Cuentasdimension                NaN  "
      ]
     },
     "execution_count": 10,
     "metadata": {},
     "output_type": "execute_result"
    }
   ],
   "source": [
    "entities[entities.id == reference]"
   ]
  },
  {
   "cell_type": "code",
   "execution_count": 11,
   "id": "c481f763-2b23-49c5-9685-f21623f236e7",
   "metadata": {},
   "outputs": [
    {
     "data": {
      "text/html": [
       "<div>\n",
       "<style scoped>\n",
       "    .dataframe tbody tr th:only-of-type {\n",
       "        vertical-align: middle;\n",
       "    }\n",
       "\n",
       "    .dataframe tbody tr th {\n",
       "        vertical-align: top;\n",
       "    }\n",
       "\n",
       "    .dataframe thead th {\n",
       "        text-align: right;\n",
       "    }\n",
       "</style>\n",
       "<table border=\"1\" class=\"dataframe\">\n",
       "  <thead>\n",
       "    <tr style=\"text-align: right;\">\n",
       "      <th></th>\n",
       "      <th>decimals</th>\n",
       "      <th>reference</th>\n",
       "      <th>currency</th>\n",
       "      <th>amount</th>\n",
       "      <th>id</th>\n",
       "      <th>entity</th>\n",
       "      <th>period</th>\n",
       "      <th>explicit_member</th>\n",
       "      <th>typed_member</th>\n",
       "      <th>dimension</th>\n",
       "      <th>typed_member_value</th>\n",
       "    </tr>\n",
       "  </thead>\n",
       "  <tbody>\n",
       "    <tr>\n",
       "      <th>0</th>\n",
       "      <td>2</td>\n",
       "      <td>IdContextosEconomicaGastos_OrganosDeGobiernoYP...</td>\n",
       "      <td>euro</td>\n",
       "      <td>993006.93</td>\n",
       "      <td>IdContextosEconomicaGastos_OrganosDeGobiernoYP...</td>\n",
       "      <td>EXCMA.DIPUTACION PROVINCIAL TERUEL</td>\n",
       "      <td>2021-03-31</td>\n",
       "      <td>trimloc2017-econ-gast-cuentas:OrganosDeGobiern...</td>\n",
       "      <td>NaN</td>\n",
       "      <td>trimloc2017-econ-gast:Cuentasdimension</td>\n",
       "      <td>NaN</td>\n",
       "    </tr>\n",
       "    <tr>\n",
       "      <th>1</th>\n",
       "      <td>2</td>\n",
       "      <td>IdContextosEconomicaGastos_RetribucionesBasica...</td>\n",
       "      <td>euro</td>\n",
       "      <td>993006.93</td>\n",
       "      <td>IdContextosEconomicaGastos_RetribucionesBasica...</td>\n",
       "      <td>EXCMA.DIPUTACION PROVINCIAL TERUEL</td>\n",
       "      <td>2021-03-31</td>\n",
       "      <td>trimloc2017-econ-gast-cuentas:RetribucionesBas...</td>\n",
       "      <td>NaN</td>\n",
       "      <td>trimloc2017-econ-gast:Cuentasdimension</td>\n",
       "      <td>NaN</td>\n",
       "    </tr>\n",
       "    <tr>\n",
       "      <th>2</th>\n",
       "      <td>2</td>\n",
       "      <td>IdContextosEconomicaGastos_OrganosDeGobiernoYP...</td>\n",
       "      <td>euro</td>\n",
       "      <td>993006.93</td>\n",
       "      <td>IdContextosEconomicaGastos_OrganosDeGobiernoYP...</td>\n",
       "      <td>EXCMA.DIPUTACION PROVINCIAL TERUEL</td>\n",
       "      <td>2021-03-31</td>\n",
       "      <td>trimloc2017-econ-gast-cuentas:OrganosDeGobiern...</td>\n",
       "      <td>NaN</td>\n",
       "      <td>trimloc2017-econ-gast:Cuentasdimension</td>\n",
       "      <td>NaN</td>\n",
       "    </tr>\n",
       "    <tr>\n",
       "      <th>3</th>\n",
       "      <td>2</td>\n",
       "      <td>IdContextosEconomicaGastos_PersonalEventual_Re...</td>\n",
       "      <td>euro</td>\n",
       "      <td>101119.27</td>\n",
       "      <td>IdContextosEconomicaGastos_PersonalEventual_Re...</td>\n",
       "      <td>EXCMA.DIPUTACION PROVINCIAL TERUEL</td>\n",
       "      <td>2021-03-31</td>\n",
       "      <td>trimloc2017-econ-gast-cuentas:PersonalEventual...</td>\n",
       "      <td>NaN</td>\n",
       "      <td>trimloc2017-econ-gast:Cuentasdimension</td>\n",
       "      <td>NaN</td>\n",
       "    </tr>\n",
       "    <tr>\n",
       "      <th>4</th>\n",
       "      <td>2</td>\n",
       "      <td>IdContextosEconomicaGastos_PersonalEventual_Re...</td>\n",
       "      <td>euro</td>\n",
       "      <td>156655.90</td>\n",
       "      <td>IdContextosEconomicaGastos_PersonalEventual_Re...</td>\n",
       "      <td>EXCMA.DIPUTACION PROVINCIAL TERUEL</td>\n",
       "      <td>2021-03-31</td>\n",
       "      <td>trimloc2017-econ-gast-cuentas:PersonalEventual...</td>\n",
       "      <td>NaN</td>\n",
       "      <td>trimloc2017-econ-gast:Cuentasdimension</td>\n",
       "      <td>NaN</td>\n",
       "    </tr>\n",
       "  </tbody>\n",
       "</table>\n",
       "</div>"
      ],
      "text/plain": [
       "   decimals                                          reference currency  \\\n",
       "0         2  IdContextosEconomicaGastos_OrganosDeGobiernoYP...     euro   \n",
       "1         2  IdContextosEconomicaGastos_RetribucionesBasica...     euro   \n",
       "2         2  IdContextosEconomicaGastos_OrganosDeGobiernoYP...     euro   \n",
       "3         2  IdContextosEconomicaGastos_PersonalEventual_Re...     euro   \n",
       "4         2  IdContextosEconomicaGastos_PersonalEventual_Re...     euro   \n",
       "\n",
       "      amount                                                 id  \\\n",
       "0  993006.93  IdContextosEconomicaGastos_OrganosDeGobiernoYP...   \n",
       "1  993006.93  IdContextosEconomicaGastos_RetribucionesBasica...   \n",
       "2  993006.93  IdContextosEconomicaGastos_OrganosDeGobiernoYP...   \n",
       "3  101119.27  IdContextosEconomicaGastos_PersonalEventual_Re...   \n",
       "4  156655.90  IdContextosEconomicaGastos_PersonalEventual_Re...   \n",
       "\n",
       "                                     entity      period  \\\n",
       "0  EXCMA.DIPUTACION PROVINCIAL TERUEL        2021-03-31   \n",
       "1  EXCMA.DIPUTACION PROVINCIAL TERUEL        2021-03-31   \n",
       "2  EXCMA.DIPUTACION PROVINCIAL TERUEL        2021-03-31   \n",
       "3  EXCMA.DIPUTACION PROVINCIAL TERUEL        2021-03-31   \n",
       "4  EXCMA.DIPUTACION PROVINCIAL TERUEL        2021-03-31   \n",
       "\n",
       "                                     explicit_member typed_member  \\\n",
       "0  trimloc2017-econ-gast-cuentas:OrganosDeGobiern...          NaN   \n",
       "1  trimloc2017-econ-gast-cuentas:RetribucionesBas...          NaN   \n",
       "2  trimloc2017-econ-gast-cuentas:OrganosDeGobiern...          NaN   \n",
       "3  trimloc2017-econ-gast-cuentas:PersonalEventual...          NaN   \n",
       "4  trimloc2017-econ-gast-cuentas:PersonalEventual...          NaN   \n",
       "\n",
       "                                dimension typed_member_value  \n",
       "0  trimloc2017-econ-gast:Cuentasdimension                NaN  \n",
       "1  trimloc2017-econ-gast:Cuentasdimension                NaN  \n",
       "2  trimloc2017-econ-gast:Cuentasdimension                NaN  \n",
       "3  trimloc2017-econ-gast:Cuentasdimension                NaN  \n",
       "4  trimloc2017-econ-gast:Cuentasdimension                NaN  "
      ]
     },
     "execution_count": 11,
     "metadata": {},
     "output_type": "execute_result"
    }
   ],
   "source": [
    "merged = EstimacionCreditosDefinitivosAFinEjercicioCorriente.merge(entities, right_on='id', left_on='reference')\n",
    "merged.head()"
   ]
  },
  {
   "cell_type": "code",
   "execution_count": 12,
   "id": "360257ce-d2dd-4720-b1cb-5a3a53e645d5",
   "metadata": {},
   "outputs": [
    {
     "data": {
      "text/html": [
       "<div>\n",
       "<style scoped>\n",
       "    .dataframe tbody tr th:only-of-type {\n",
       "        vertical-align: middle;\n",
       "    }\n",
       "\n",
       "    .dataframe tbody tr th {\n",
       "        vertical-align: top;\n",
       "    }\n",
       "\n",
       "    .dataframe thead th {\n",
       "        text-align: right;\n",
       "    }\n",
       "</style>\n",
       "<table border=\"1\" class=\"dataframe\">\n",
       "  <thead>\n",
       "    <tr style=\"text-align: right;\">\n",
       "      <th></th>\n",
       "      <th>decimals</th>\n",
       "      <th>reference</th>\n",
       "      <th>currency</th>\n",
       "      <th>amount</th>\n",
       "      <th>id</th>\n",
       "      <th>entity</th>\n",
       "      <th>period</th>\n",
       "      <th>explicit_member</th>\n",
       "      <th>typed_member</th>\n",
       "      <th>dimension</th>\n",
       "      <th>typed_member_value</th>\n",
       "    </tr>\n",
       "  </thead>\n",
       "  <tbody>\n",
       "    <tr>\n",
       "      <th>0</th>\n",
       "      <td>2</td>\n",
       "      <td>IdContextosAnexo1_InteresesDeDeudaPublica</td>\n",
       "      <td>euro</td>\n",
       "      <td>0.00</td>\n",
       "      <td>IdContextosAnexo1_InteresesDeDeudaPublica</td>\n",
       "      <td>EXCMA.DIPUTACION PROVINCIAL TERUEL</td>\n",
       "      <td>2021-03-31</td>\n",
       "      <td>trimloc2017-anexo1:InteresesDeDeudaPublica</td>\n",
       "      <td>NaN</td>\n",
       "      <td>trimloc2017-anexo1:Conceptosdimension</td>\n",
       "      <td>NaN</td>\n",
       "    </tr>\n",
       "    <tr>\n",
       "      <th>1</th>\n",
       "      <td>2</td>\n",
       "      <td>IdContextosAnexo1_InteresesDePrestamosYOtrasOp...</td>\n",
       "      <td>euro</td>\n",
       "      <td>0.00</td>\n",
       "      <td>IdContextosAnexo1_InteresesDePrestamosYOtrasOp...</td>\n",
       "      <td>EXCMA.DIPUTACION PROVINCIAL TERUEL</td>\n",
       "      <td>2021-03-31</td>\n",
       "      <td>trimloc2017-anexo1:InteresesDePrestamosYOtrasO...</td>\n",
       "      <td>NaN</td>\n",
       "      <td>trimloc2017-anexo1:Conceptosdimension</td>\n",
       "      <td>NaN</td>\n",
       "    </tr>\n",
       "    <tr>\n",
       "      <th>2</th>\n",
       "      <td>2</td>\n",
       "      <td>IdContextosAnexo1_InteresesDeDepositosYFianzas</td>\n",
       "      <td>euro</td>\n",
       "      <td>0.00</td>\n",
       "      <td>IdContextosAnexo1_InteresesDeDepositosYFianzas</td>\n",
       "      <td>EXCMA.DIPUTACION PROVINCIAL TERUEL</td>\n",
       "      <td>2021-03-31</td>\n",
       "      <td>trimloc2017-anexo1:InteresesDeDepositosYFianzas</td>\n",
       "      <td>NaN</td>\n",
       "      <td>trimloc2017-anexo1:Conceptosdimension</td>\n",
       "      <td>NaN</td>\n",
       "    </tr>\n",
       "    <tr>\n",
       "      <th>3</th>\n",
       "      <td>2</td>\n",
       "      <td>IdContextosAnexo1_OtrosIntereses352y358</td>\n",
       "      <td>euro</td>\n",
       "      <td>0.00</td>\n",
       "      <td>IdContextosAnexo1_OtrosIntereses352y358</td>\n",
       "      <td>EXCMA.DIPUTACION PROVINCIAL TERUEL</td>\n",
       "      <td>2021-03-31</td>\n",
       "      <td>trimloc2017-anexo1:OtrosIntereses352y358</td>\n",
       "      <td>NaN</td>\n",
       "      <td>trimloc2017-anexo1:Conceptosdimension</td>\n",
       "      <td>NaN</td>\n",
       "    </tr>\n",
       "    <tr>\n",
       "      <th>4</th>\n",
       "      <td>2</td>\n",
       "      <td>IdContextosAnexo1_EjecucionDeAvales357</td>\n",
       "      <td>euro</td>\n",
       "      <td>0.00</td>\n",
       "      <td>IdContextosAnexo1_EjecucionDeAvales357</td>\n",
       "      <td>EXCMA.DIPUTACION PROVINCIAL TERUEL</td>\n",
       "      <td>2021-03-31</td>\n",
       "      <td>trimloc2017-anexo1:EjecucionDeAvales357</td>\n",
       "      <td>NaN</td>\n",
       "      <td>trimloc2017-anexo1:Conceptosdimension</td>\n",
       "      <td>NaN</td>\n",
       "    </tr>\n",
       "    <tr>\n",
       "      <th>...</th>\n",
       "      <td>...</td>\n",
       "      <td>...</td>\n",
       "      <td>...</td>\n",
       "      <td>...</td>\n",
       "      <td>...</td>\n",
       "      <td>...</td>\n",
       "      <td>...</td>\n",
       "      <td>...</td>\n",
       "      <td>...</td>\n",
       "      <td>...</td>\n",
       "      <td>...</td>\n",
       "    </tr>\n",
       "    <tr>\n",
       "      <th>14</th>\n",
       "      <td>2</td>\n",
       "      <td>R42</td>\n",
       "      <td>euro</td>\n",
       "      <td>1776599.45</td>\n",
       "      <td>R42</td>\n",
       "      <td>EXCMA.DIPUTACION PROVINCIAL TERUEL</td>\n",
       "      <td>2021-03-31</td>\n",
       "      <td>trimloc2017-remt:ExcesoDeFinanciacionAfectada</td>\n",
       "      <td>NaN</td>\n",
       "      <td>trimloc2017-remt:FilasdeRemanentedeTesoreriadi...</td>\n",
       "      <td>NaN</td>\n",
       "    </tr>\n",
       "    <tr>\n",
       "      <th>15</th>\n",
       "      <td>2</td>\n",
       "      <td>R49t</td>\n",
       "      <td>euro</td>\n",
       "      <td>63588850.58</td>\n",
       "      <td>R49t</td>\n",
       "      <td>EXCMA.DIPUTACION PROVINCIAL TERUEL</td>\n",
       "      <td>2021-03-31</td>\n",
       "      <td>trimloc2017-remt:RemanenteDeTesoreriaParaGasto...</td>\n",
       "      <td>NaN</td>\n",
       "      <td>trimloc2017-remt:FilasdeRemanentedeTesoreriadi...</td>\n",
       "      <td>NaN</td>\n",
       "    </tr>\n",
       "    <tr>\n",
       "      <th>16</th>\n",
       "      <td>2</td>\n",
       "      <td>R59t</td>\n",
       "      <td>euro</td>\n",
       "      <td>210410.12</td>\n",
       "      <td>R59t</td>\n",
       "      <td>EXCMA.DIPUTACION PROVINCIAL TERUEL</td>\n",
       "      <td>2021-03-31</td>\n",
       "      <td>trimloc2017-remt:SaldoDeObligacionesPendientes...</td>\n",
       "      <td>NaN</td>\n",
       "      <td>trimloc2017-remt:FilasdeRemanentedeTesoreriadi...</td>\n",
       "      <td>NaN</td>\n",
       "    </tr>\n",
       "    <tr>\n",
       "      <th>17</th>\n",
       "      <td>2</td>\n",
       "      <td>R69t</td>\n",
       "      <td>euro</td>\n",
       "      <td>131.25</td>\n",
       "      <td>R69t</td>\n",
       "      <td>EXCMA.DIPUTACION PROVINCIAL TERUEL</td>\n",
       "      <td>2021-03-31</td>\n",
       "      <td>trimloc2017-remt:SaldoDeObligacionesPorDevoluc...</td>\n",
       "      <td>NaN</td>\n",
       "      <td>trimloc2017-remt:FilasdeRemanentedeTesoreriadi...</td>\n",
       "      <td>NaN</td>\n",
       "    </tr>\n",
       "    <tr>\n",
       "      <th>18</th>\n",
       "      <td>2</td>\n",
       "      <td>R79</td>\n",
       "      <td>euro</td>\n",
       "      <td>63378309.21</td>\n",
       "      <td>R79</td>\n",
       "      <td>EXCMA.DIPUTACION PROVINCIAL TERUEL</td>\n",
       "      <td>2021-03-31</td>\n",
       "      <td>trimloc2017-remt:RemanenteDeTesoreriaParaGasto...</td>\n",
       "      <td>NaN</td>\n",
       "      <td>trimloc2017-remt:FilasdeRemanentedeTesoreriadi...</td>\n",
       "      <td>NaN</td>\n",
       "    </tr>\n",
       "  </tbody>\n",
       "</table>\n",
       "<p>1629 rows × 11 columns</p>\n",
       "</div>"
      ],
      "text/plain": [
       "    decimals                                          reference currency  \\\n",
       "0          2          IdContextosAnexo1_InteresesDeDeudaPublica     euro   \n",
       "1          2  IdContextosAnexo1_InteresesDePrestamosYOtrasOp...     euro   \n",
       "2          2     IdContextosAnexo1_InteresesDeDepositosYFianzas     euro   \n",
       "3          2            IdContextosAnexo1_OtrosIntereses352y358     euro   \n",
       "4          2             IdContextosAnexo1_EjecucionDeAvales357     euro   \n",
       "..       ...                                                ...      ...   \n",
       "14         2                                                R42     euro   \n",
       "15         2                                               R49t     euro   \n",
       "16         2                                               R59t     euro   \n",
       "17         2                                               R69t     euro   \n",
       "18         2                                                R79     euro   \n",
       "\n",
       "         amount                                                 id  \\\n",
       "0          0.00          IdContextosAnexo1_InteresesDeDeudaPublica   \n",
       "1          0.00  IdContextosAnexo1_InteresesDePrestamosYOtrasOp...   \n",
       "2          0.00     IdContextosAnexo1_InteresesDeDepositosYFianzas   \n",
       "3          0.00            IdContextosAnexo1_OtrosIntereses352y358   \n",
       "4          0.00             IdContextosAnexo1_EjecucionDeAvales357   \n",
       "..          ...                                                ...   \n",
       "14   1776599.45                                                R42   \n",
       "15  63588850.58                                               R49t   \n",
       "16    210410.12                                               R59t   \n",
       "17       131.25                                               R69t   \n",
       "18  63378309.21                                                R79   \n",
       "\n",
       "                                      entity      period  \\\n",
       "0   EXCMA.DIPUTACION PROVINCIAL TERUEL        2021-03-31   \n",
       "1   EXCMA.DIPUTACION PROVINCIAL TERUEL        2021-03-31   \n",
       "2   EXCMA.DIPUTACION PROVINCIAL TERUEL        2021-03-31   \n",
       "3   EXCMA.DIPUTACION PROVINCIAL TERUEL        2021-03-31   \n",
       "4   EXCMA.DIPUTACION PROVINCIAL TERUEL        2021-03-31   \n",
       "..                                       ...         ...   \n",
       "14  EXCMA.DIPUTACION PROVINCIAL TERUEL        2021-03-31   \n",
       "15  EXCMA.DIPUTACION PROVINCIAL TERUEL        2021-03-31   \n",
       "16  EXCMA.DIPUTACION PROVINCIAL TERUEL        2021-03-31   \n",
       "17  EXCMA.DIPUTACION PROVINCIAL TERUEL        2021-03-31   \n",
       "18  EXCMA.DIPUTACION PROVINCIAL TERUEL        2021-03-31   \n",
       "\n",
       "                                      explicit_member typed_member  \\\n",
       "0          trimloc2017-anexo1:InteresesDeDeudaPublica          NaN   \n",
       "1   trimloc2017-anexo1:InteresesDePrestamosYOtrasO...          NaN   \n",
       "2     trimloc2017-anexo1:InteresesDeDepositosYFianzas          NaN   \n",
       "3            trimloc2017-anexo1:OtrosIntereses352y358          NaN   \n",
       "4             trimloc2017-anexo1:EjecucionDeAvales357          NaN   \n",
       "..                                                ...          ...   \n",
       "14      trimloc2017-remt:ExcesoDeFinanciacionAfectada          NaN   \n",
       "15  trimloc2017-remt:RemanenteDeTesoreriaParaGasto...          NaN   \n",
       "16  trimloc2017-remt:SaldoDeObligacionesPendientes...          NaN   \n",
       "17  trimloc2017-remt:SaldoDeObligacionesPorDevoluc...          NaN   \n",
       "18  trimloc2017-remt:RemanenteDeTesoreriaParaGasto...          NaN   \n",
       "\n",
       "                                            dimension typed_member_value  \n",
       "0               trimloc2017-anexo1:Conceptosdimension                NaN  \n",
       "1               trimloc2017-anexo1:Conceptosdimension                NaN  \n",
       "2               trimloc2017-anexo1:Conceptosdimension                NaN  \n",
       "3               trimloc2017-anexo1:Conceptosdimension                NaN  \n",
       "4               trimloc2017-anexo1:Conceptosdimension                NaN  \n",
       "..                                                ...                ...  \n",
       "14  trimloc2017-remt:FilasdeRemanentedeTesoreriadi...                NaN  \n",
       "15  trimloc2017-remt:FilasdeRemanentedeTesoreriadi...                NaN  \n",
       "16  trimloc2017-remt:FilasdeRemanentedeTesoreriadi...                NaN  \n",
       "17  trimloc2017-remt:FilasdeRemanentedeTesoreriadi...                NaN  \n",
       "18  trimloc2017-remt:FilasdeRemanentedeTesoreriadi...                NaN  \n",
       "\n",
       "[1629 rows x 11 columns]"
      ]
     },
     "execution_count": 12,
     "metadata": {},
     "output_type": "execute_result"
    }
   ],
   "source": [
    "all_payments = None\n",
    "for file in files:\n",
    "    if os.path.isfile(os.path.join(input_files_path, file)):\n",
    "        if 'payment_' in file:\n",
    "            path = os.path.join(input_files_path, file)\n",
    "            payments = pd.read_csv(path, index_col=0)\n",
    "            merged = payments.merge(entities, right_on='id', left_on='reference', how='left')\n",
    "\n",
    "            if all_payments is None:\n",
    "                all_payments = merged\n",
    "            else:\n",
    "                all_payments = pd.concat([all_payments, merged])\n",
    "\n",
    "all_payments"
   ]
  },
  {
   "cell_type": "code",
   "execution_count": 13,
   "id": "79dac2ed-1184-4fdc-8049-77270b560204",
   "metadata": {},
   "outputs": [
    {
     "data": {
      "text/plain": [
       "count                                                  1629\n",
       "unique                                                  294\n",
       "top       IdContextosEconomicaGastos_TransferenciasCorri...\n",
       "freq                                                      6\n",
       "Name: id, dtype: object"
      ]
     },
     "execution_count": 13,
     "metadata": {},
     "output_type": "execute_result"
    }
   ],
   "source": [
    "all_payments.id.describe()"
   ]
  },
  {
   "cell_type": "code",
   "execution_count": 14,
   "id": "caea2533-3fb1-4359-aa5a-16f6eed1e69a",
   "metadata": {},
   "outputs": [
    {
     "data": {
      "text/plain": [
       "2095730562.7099998"
      ]
     },
     "execution_count": 14,
     "metadata": {},
     "output_type": "execute_result"
    }
   ],
   "source": [
    "all_payments.amount.sum()\n"
   ]
  },
  {
   "cell_type": "code",
   "execution_count": 15,
   "id": "422ff225-5998-4eb2-89f5-422e8d4ef1e0",
   "metadata": {},
   "outputs": [],
   "source": [
    "all_payments.to_csv('output/all_payments.csv')"
   ]
  },
  {
   "cell_type": "code",
   "execution_count": 16,
   "id": "d43af4e4-b4c3-4862-9ea0-76e17bb81557",
   "metadata": {},
   "outputs": [],
   "source": [
    "group_payments = all_payments[all_payments.amount != 0.0] # remove before sum to avoid errors\n",
    "group_payments = group_payments.groupby('id').sum()\n",
    "group_payments = group_payments.sort_values(by='amount', ascending=False)"
   ]
  },
  {
   "cell_type": "code",
   "execution_count": 17,
   "id": "de0ca7b5-75da-482e-9e38-087ef9d144a5",
   "metadata": {},
   "outputs": [],
   "source": [
    "group_payments.to_csv('output/payments_group_by_id.csv', index_label='index')"
   ]
  },
  {
   "cell_type": "code",
   "execution_count": 18,
   "id": "49554dee-9aa1-49f7-b1ba-393a27147e58",
   "metadata": {},
   "outputs": [
    {
     "data": {
      "text/plain": [
       "<AxesSubplot:xlabel='amount', ylabel='id'>"
      ]
     },
     "execution_count": 18,
     "metadata": {},
     "output_type": "execute_result"
    },
    {
     "data": {
      "image/png": "[encoded data removed]",
      "text/plain": [
       "<Figure size 432x288 with 1 Axes>"
      ]
     },
     "metadata": {
      "needs_background": "light"
     },
     "output_type": "display_data"
    }
   ],
   "source": [
    "top_10_payments = group_payments.head(10)\n",
    "sns.barplot(x=top_10_payments['amount'], y=top_10_payments.index)"
   ]
  },
  {
   "cell_type": "code",
   "execution_count": 19,
   "id": "747b561b-867a-415b-ad5d-bd6a6277e0f2",
   "metadata": {},
   "outputs": [
    {
     "data": {
      "text/plain": [
       "<AxesSubplot:xlabel='amount', ylabel='id'>"
      ]
     },
     "execution_count": 19,
     "metadata": {},
     "output_type": "execute_result"
    },
    {
     "data": {
      "image/png": "[encoded data removed]",
      "text/plain": [
       "<Figure size 432x288 with 1 Axes>"
      ]
     },
     "metadata": {
      "needs_background": "light"
     },
     "output_type": "display_data"
    }
   ],
   "source": [
    "botton_10_payments = group_payments.tail(10)\n",
    "sns.barplot(x=botton_10_payments['amount'], y=botton_10_payments.index)"
   ]
  },
  {
   "cell_type": "code",
   "execution_count": 20,
   "id": "43e1e10c-5c01-468a-b41a-63fbeba9c02b",
   "metadata": {},
   "outputs": [
    {
     "data": {
      "text/plain": [
       "(284, 2)"
      ]
     },
     "execution_count": 20,
     "metadata": {},
     "output_type": "execute_result"
    }
   ],
   "source": [
    "group_payments_without_empties = group_payments[group_payments.amount != 0.0]\n",
    "group_payments_without_empties.shape\n",
    "# group_payments.shape"
   ]
  },
  {
   "cell_type": "code",
   "execution_count": 21,
   "id": "95061f56-ced3-4ff9-bd63-84cf4309887e",
   "metadata": {},
   "outputs": [
    {
     "data": {
      "text/plain": [
       "<AxesSubplot:xlabel='amount', ylabel='id'>"
      ]
     },
     "execution_count": 21,
     "metadata": {},
     "output_type": "execute_result"
    },
    {
     "data": {
      "image/png": "[encoded data removed]",
      "text/plain": [
       "<Figure size 432x288 with 1 Axes>"
      ]
     },
     "metadata": {
      "needs_background": "light"
     },
     "output_type": "display_data"
    }
   ],
   "source": [
    "botton_10_payments = group_payments_without_empties[:-2].tail(6)\n",
    "sns.barplot(x=botton_10_payments['amount'], y=botton_10_payments.index)"
   ]
  },
  {
   "cell_type": "code",
   "execution_count": 22,
   "id": "3bda6b9b-edf9-4760-9b0f-1cd3125247ee",
   "metadata": {},
   "outputs": [
    {
     "data": {
      "text/html": [
       "<div>\n",
       "<style scoped>\n",
       "    .dataframe tbody tr th:only-of-type {\n",
       "        vertical-align: middle;\n",
       "    }\n",
       "\n",
       "    .dataframe tbody tr th {\n",
       "        vertical-align: top;\n",
       "    }\n",
       "\n",
       "    .dataframe thead th {\n",
       "        text-align: right;\n",
       "    }\n",
       "</style>\n",
       "<table border=\"1\" class=\"dataframe\">\n",
       "  <thead>\n",
       "    <tr style=\"text-align: right;\">\n",
       "      <th></th>\n",
       "      <th>decimals</th>\n",
       "      <th>amount</th>\n",
       "    </tr>\n",
       "    <tr>\n",
       "      <th>id</th>\n",
       "      <th></th>\n",
       "      <th></th>\n",
       "    </tr>\n",
       "  </thead>\n",
       "  <tbody>\n",
       "    <tr>\n",
       "      <th>IdContextosEconomicaIngresos_DerechoDeSuperficieConContraprestacionNoPeriodica</th>\n",
       "      <td>4</td>\n",
       "      <td>0.01</td>\n",
       "    </tr>\n",
       "    <tr>\n",
       "      <th>IdContextosEconomicaGastos_ProductosAlimenticios</th>\n",
       "      <td>4</td>\n",
       "      <td>0.01</td>\n",
       "    </tr>\n",
       "    <tr>\n",
       "      <th>IdContextosEconomicaGastos_EconomicaGastos_GastosFinancieros_InteresesDeDemoraYOtrosGastosFinancieros_InteresesDeDemora</th>\n",
       "      <td>4</td>\n",
       "      <td>0.01</td>\n",
       "    </tr>\n",
       "    <tr>\n",
       "      <th>IdContextosEconomicaIngresos_ParaGastosConFinanciacionAfectada</th>\n",
       "      <td>4</td>\n",
       "      <td>0.01</td>\n",
       "    </tr>\n",
       "    <tr>\n",
       "      <th>IdContextosEconomicaIngresos_ProductosDeConcesionesYAprovechamientosEspeciales</th>\n",
       "      <td>4</td>\n",
       "      <td>0.01</td>\n",
       "    </tr>\n",
       "    <tr>\n",
       "      <th>IdContextosEconomicaIngresos_TransferenciaCorrientes_DeEntidadesLocales_DeComarcas</th>\n",
       "      <td>4</td>\n",
       "      <td>0.01</td>\n",
       "    </tr>\n",
       "  </tbody>\n",
       "</table>\n",
       "</div>"
      ],
      "text/plain": [
       "                                                    decimals  amount\n",
       "id                                                                  \n",
       "IdContextosEconomicaIngresos_DerechoDeSuperfici...         4    0.01\n",
       "IdContextosEconomicaGastos_ProductosAlimenticios           4    0.01\n",
       "IdContextosEconomicaGastos_EconomicaGastos_Gast...         4    0.01\n",
       "IdContextosEconomicaIngresos_ParaGastosConFinan...         4    0.01\n",
       "IdContextosEconomicaIngresos_ProductosDeConcesi...         4    0.01\n",
       "IdContextosEconomicaIngresos_TransferenciaCorri...         4    0.01"
      ]
     },
     "execution_count": 22,
     "metadata": {},
     "output_type": "execute_result"
    }
   ],
   "source": [
    "botton_10_payments"
   ]
  },
  {
   "cell_type": "code",
   "execution_count": 23,
   "id": "189b978d-dea0-44a4-a43a-2b2f2ed9a42a",
   "metadata": {},
   "outputs": [
    {
     "data": {
      "text/plain": [
       "<AxesSubplot:xlabel='amount', ylabel='id'>"
      ]
     },
     "execution_count": 23,
     "metadata": {},
     "output_type": "execute_result"
    },
    {
     "data": {
      "image/png": "[encoded data removed]",
      "text/plain": [
       "<Figure size 432x288 with 1 Axes>"
      ]
     },
     "metadata": {
      "needs_background": "light"
     },
     "output_type": "display_data"
    }
   ],
   "source": [
    "botton_10_payments = group_payments_without_empties[:-9].tail(10)\n",
    "sns.barplot(x=botton_10_payments['amount'], y=botton_10_payments.index)"
   ]
  },
  {
   "cell_type": "code",
   "execution_count": 24,
   "id": "b6a70fc9-3682-436e-99d9-e6e8ac9716c6",
   "metadata": {},
   "outputs": [
    {
     "data": {
      "text/html": [
       "<div>\n",
       "<style scoped>\n",
       "    .dataframe tbody tr th:only-of-type {\n",
       "        vertical-align: middle;\n",
       "    }\n",
       "\n",
       "    .dataframe tbody tr th {\n",
       "        vertical-align: top;\n",
       "    }\n",
       "\n",
       "    .dataframe thead th {\n",
       "        text-align: right;\n",
       "    }\n",
       "</style>\n",
       "<table border=\"1\" class=\"dataframe\">\n",
       "  <thead>\n",
       "    <tr style=\"text-align: right;\">\n",
       "      <th></th>\n",
       "      <th>decimals</th>\n",
       "      <th>amount</th>\n",
       "    </tr>\n",
       "    <tr>\n",
       "      <th>id</th>\n",
       "      <th></th>\n",
       "      <th></th>\n",
       "    </tr>\n",
       "  </thead>\n",
       "  <tbody>\n",
       "    <tr>\n",
       "      <th>IdContextosEconomicaIngresos_DerechoDeSuperficieConContraprestacionNoPeriodica</th>\n",
       "      <td>4</td>\n",
       "      <td>0.01</td>\n",
       "    </tr>\n",
       "    <tr>\n",
       "      <th>IdContextosEconomicaGastos_ProductosAlimenticios</th>\n",
       "      <td>4</td>\n",
       "      <td>0.01</td>\n",
       "    </tr>\n",
       "    <tr>\n",
       "      <th>IdContextosEconomicaGastos_EconomicaGastos_GastosFinancieros_InteresesDeDemoraYOtrosGastosFinancieros_InteresesDeDemora</th>\n",
       "      <td>4</td>\n",
       "      <td>0.01</td>\n",
       "    </tr>\n",
       "    <tr>\n",
       "      <th>IdContextosEconomicaIngresos_ParaGastosConFinanciacionAfectada</th>\n",
       "      <td>4</td>\n",
       "      <td>0.01</td>\n",
       "    </tr>\n",
       "    <tr>\n",
       "      <th>IdContextosEconomicaIngresos_ProductosDeConcesionesYAprovechamientosEspeciales</th>\n",
       "      <td>4</td>\n",
       "      <td>0.01</td>\n",
       "    </tr>\n",
       "    <tr>\n",
       "      <th>IdContextosEconomicaIngresos_TransferenciaCorrientes_DeEntidadesLocales_DeComarcas</th>\n",
       "      <td>4</td>\n",
       "      <td>0.01</td>\n",
       "    </tr>\n",
       "  </tbody>\n",
       "</table>\n",
       "</div>"
      ],
      "text/plain": [
       "                                                    decimals  amount\n",
       "id                                                                  \n",
       "IdContextosEconomicaIngresos_DerechoDeSuperfici...         4    0.01\n",
       "IdContextosEconomicaGastos_ProductosAlimenticios           4    0.01\n",
       "IdContextosEconomicaGastos_EconomicaGastos_Gast...         4    0.01\n",
       "IdContextosEconomicaIngresos_ParaGastosConFinan...         4    0.01\n",
       "IdContextosEconomicaIngresos_ProductosDeConcesi...         4    0.01\n",
       "IdContextosEconomicaIngresos_TransferenciaCorri...         4    0.01"
      ]
     },
     "execution_count": 24,
     "metadata": {},
     "output_type": "execute_result"
    }
   ],
   "source": [
    "group_payments_without_empties[group_payments_without_empties.amount == 0.01]"
   ]
  }
 ],
 "metadata": {
  "kernelspec": {
   "display_name": "Python 3 (ipykernel)",
   "language": "python",
   "name": "python3"
  },
  "language_info": {
   "codemirror_mode": {
    "name": "ipython",
    "version": 3
   },
   "file_extension": ".py",
   "mimetype": "text/x-python",
   "name": "python",
   "nbconvert_exporter": "python",
   "pygments_lexer": "ipython3",
   "version": "3.9.6"
  }
 },
 "nbformat": 4,
 "nbformat_minor": 5
}
