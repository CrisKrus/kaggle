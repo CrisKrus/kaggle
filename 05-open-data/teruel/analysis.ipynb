{
 "cells": [
  {
   "cell_type": "markdown",
   "id": "58693faf-536a-4e0f-8774-9f51729e30ee",
   "metadata": {},
   "source": [
    "- Leer los diferentes pagos\n",
    "- ver gastos totales por pago\n",
    "- relacionar pagos con entidades\n",
    "- ver entidades con mas gastos/ingresos\n",
    "- etc"
   ]
  }
 ],
 "metadata": {
  "kernelspec": {
   "display_name": "Python 3 (ipykernel)",
   "language": "python",
   "name": "python3"
  },
  "language_info": {
   "codemirror_mode": {
    "name": "ipython",
    "version": 3
   },
   "file_extension": ".py",
   "mimetype": "text/x-python",
   "name": "python",
   "nbconvert_exporter": "python",
   "pygments_lexer": "ipython3",
   "version": "3.9.6"
  }
 },
 "nbformat": 4,
 "nbformat_minor": 5
}
