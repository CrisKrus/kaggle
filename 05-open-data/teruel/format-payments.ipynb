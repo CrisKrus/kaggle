{
 "cells": [
  {
   "cell_type": "code",
   "execution_count": 1,
   "id": "91cda0d4-8c9e-4469-96ed-c5fccac9632f",
   "metadata": {},
   "outputs": [],
   "source": [
    "import urllib.request, json\n",
    "import requests\n",
    "import pandas as pd"
   ]
  },
  {
   "cell_type": "code",
   "execution_count": 2,
   "id": "d3e84a75-9624-4a83-96bf-b71732b6c5ab",
   "metadata": {},
   "outputs": [
    {
     "data": {
      "text/plain": [
       "(1629, 4)"
      ]
     },
     "execution_count": 2,
     "metadata": {},
     "output_type": "execute_result"
    }
   ],
   "source": [
    "liquidacion_trimestral_uri = 'https://236ws.dpteruel.es/transparencia/dpteruel/wp-content/uploads/sites/3/2021/05/P4400000H-2021-LIQUIDACION-TRIMESTRAL-PRESUPUESTOS-1T.xml'\n",
    "\n",
    "import xml.etree.ElementTree as ET\n",
    "r = requests.get(liquidacion_trimestral_uri)\n",
    "tree = ET.ElementTree(ET.fromstring(r.text))\n",
    "root = tree.getroot()\n",
    "\n"
   ]
  },
  {
   "cell_type": "code",
   "execution_count": 3,
   "id": "0297abf3-c191-4e9b-bd93-de861f059a2b",
   "metadata": {},
   "outputs": [
    {
     "data": {
      "text/html": [
       "<div>\n",
       "<style scoped>\n",
       "    .dataframe tbody tr th:only-of-type {\n",
       "        vertical-align: middle;\n",
       "    }\n",
       "\n",
       "    .dataframe tbody tr th {\n",
       "        vertical-align: top;\n",
       "    }\n",
       "\n",
       "    .dataframe thead th {\n",
       "        text-align: right;\n",
       "    }\n",
       "</style>\n",
       "<table border=\"1\" class=\"dataframe\">\n",
       "  <thead>\n",
       "    <tr style=\"text-align: right;\">\n",
       "      <th></th>\n",
       "      <th>decimals</th>\n",
       "      <th>reference</th>\n",
       "      <th>currency</th>\n",
       "      <th>amount</th>\n",
       "    </tr>\n",
       "  </thead>\n",
       "  <tbody>\n",
       "    <tr>\n",
       "      <th>0</th>\n",
       "      <td>2</td>\n",
       "      <td>IdContextosEconomicaIngresos_ImpuestosSobreLaR...</td>\n",
       "      <td>euro</td>\n",
       "      <td>1316220.00</td>\n",
       "    </tr>\n",
       "    <tr>\n",
       "      <th>1</th>\n",
       "      <td>2</td>\n",
       "      <td>IdContextosEconomicaIngresos_ImpuestosSobreLaR...</td>\n",
       "      <td>euro</td>\n",
       "      <td>329055.30</td>\n",
       "    </tr>\n",
       "    <tr>\n",
       "      <th>2</th>\n",
       "      <td>2</td>\n",
       "      <td>IdContextosEconomicaIngresos_ImpuestosSobreLaR...</td>\n",
       "      <td>euro</td>\n",
       "      <td>329055.30</td>\n",
       "    </tr>\n",
       "    <tr>\n",
       "      <th>3</th>\n",
       "      <td>2</td>\n",
       "      <td>IdContextosEconomicaIngresos_ImpuestosSobreLaR...</td>\n",
       "      <td>euro</td>\n",
       "      <td>0.00</td>\n",
       "    </tr>\n",
       "    <tr>\n",
       "      <th>4</th>\n",
       "      <td>2</td>\n",
       "      <td>IdContextosEconomicaIngresos_ImpuestosSobreLaR...</td>\n",
       "      <td>euro</td>\n",
       "      <td>1316220.00</td>\n",
       "    </tr>\n",
       "  </tbody>\n",
       "</table>\n",
       "</div>"
      ],
      "text/plain": [
       "  decimals                                          reference currency  \\\n",
       "0        2  IdContextosEconomicaIngresos_ImpuestosSobreLaR...     euro   \n",
       "1        2  IdContextosEconomicaIngresos_ImpuestosSobreLaR...     euro   \n",
       "2        2  IdContextosEconomicaIngresos_ImpuestosSobreLaR...     euro   \n",
       "3        2  IdContextosEconomicaIngresos_ImpuestosSobreLaR...     euro   \n",
       "4        2  IdContextosEconomicaIngresos_ImpuestosSobreLaR...     euro   \n",
       "\n",
       "       amount  \n",
       "0  1316220.00  \n",
       "1   329055.30  \n",
       "2   329055.30  \n",
       "3        0.00  \n",
       "4  1316220.00  "
      ]
     },
     "execution_count": 3,
     "metadata": {},
     "output_type": "execute_result"
    }
   ],
   "source": [
    "liquidacion_trimestral_df.head()"
   ]
  },
  {
   "cell_type": "code",
   "execution_count": 4,
   "id": "cbf172b9-208a-4e16-b10f-082626fd611d",
   "metadata": {},
   "outputs": [
    {
     "data": {
      "text/html": [
       "<div>\n",
       "<style scoped>\n",
       "    .dataframe tbody tr th:only-of-type {\n",
       "        vertical-align: middle;\n",
       "    }\n",
       "\n",
       "    .dataframe tbody tr th {\n",
       "        vertical-align: top;\n",
       "    }\n",
       "\n",
       "    .dataframe thead th {\n",
       "        text-align: right;\n",
       "    }\n",
       "</style>\n",
       "<table border=\"1\" class=\"dataframe\">\n",
       "  <thead>\n",
       "    <tr style=\"text-align: right;\">\n",
       "      <th></th>\n",
       "      <th>decimals</th>\n",
       "      <th>reference</th>\n",
       "      <th>currency</th>\n",
       "      <th>amount</th>\n",
       "    </tr>\n",
       "  </thead>\n",
       "  <tbody>\n",
       "    <tr>\n",
       "      <th>count</th>\n",
       "      <td>1629</td>\n",
       "      <td>1629</td>\n",
       "      <td>1629</td>\n",
       "      <td>1372</td>\n",
       "    </tr>\n",
       "    <tr>\n",
       "      <th>unique</th>\n",
       "      <td>2</td>\n",
       "      <td>294</td>\n",
       "      <td>1</td>\n",
       "      <td>480</td>\n",
       "    </tr>\n",
       "    <tr>\n",
       "      <th>top</th>\n",
       "      <td>2</td>\n",
       "      <td>IdContextosEconomicaIngresos_ImpuestosSobreLaR...</td>\n",
       "      <td>euro</td>\n",
       "      <td>0.00</td>\n",
       "    </tr>\n",
       "    <tr>\n",
       "      <th>freq</th>\n",
       "      <td>1581</td>\n",
       "      <td>6</td>\n",
       "      <td>1629</td>\n",
       "      <td>416</td>\n",
       "    </tr>\n",
       "  </tbody>\n",
       "</table>\n",
       "</div>"
      ],
      "text/plain": [
       "       decimals                                          reference currency  \\\n",
       "count      1629                                               1629     1629   \n",
       "unique        2                                                294        1   \n",
       "top           2  IdContextosEconomicaIngresos_ImpuestosSobreLaR...     euro   \n",
       "freq       1581                                                  6     1629   \n",
       "\n",
       "       amount  \n",
       "count    1372  \n",
       "unique    480  \n",
       "top      0.00  \n",
       "freq      416  "
      ]
     },
     "execution_count": 4,
     "metadata": {},
     "output_type": "execute_result"
    }
   ],
   "source": [
    "liquidacion_trimestral_df.describe()"
   ]
  },
  {
   "cell_type": "code",
   "execution_count": 5,
   "id": "eddd9882-a0c1-4857-8f5b-ed63bef10bbf",
   "metadata": {},
   "outputs": [
    {
     "data": {
      "text/plain": [
       "decimals       0\n",
       "reference      0\n",
       "currency       0\n",
       "amount       257\n",
       "dtype: int64"
      ]
     },
     "execution_count": 5,
     "metadata": {},
     "output_type": "execute_result"
    }
   ],
   "source": [
    "liquidacion_trimestral_df.isnull().sum()"
   ]
  },
  {
   "cell_type": "code",
   "execution_count": 6,
   "id": "8b8baeb9-53d9-40e8-9cf9-b679856f5504",
   "metadata": {},
   "outputs": [
    {
     "data": {
      "text/plain": [
       "array(['IdContextosEconomicaIngresos_ImpuestosSobreLaRentaDeLasPersonasFisicas',\n",
       "       'IdContextosEconomicaIngresos_ImpuestoSobreLaRenta',\n",
       "       'IdContextosEconomicaIngresos_RecargoProvincialEnElImpuestoSobreActividadesEconomicas',\n",
       "       'IdContextosEconomicaIngresos_RecargosSobreImpuestosDirectosDeOtrosEntesLocales',\n",
       "       'IdContextosEconomicaIngresos_ImpuestosDirectos',\n",
       "       'IdContextosEconomicaIngresos_ImpuestoSobreElValorAnadido',\n",
       "       'IdContextosEconomicaIngresos_ImpuestosSobreElValorAnadido',\n",
       "       'IdContextosEconomicaIngresos_ImpuestoSobreElAlcoholYBebidasDerivadas',\n",
       "       'IdContextosEconomicaIngresos_ImpuestoSobreLaCerveza'],\n",
       "      dtype=object)"
      ]
     },
     "execution_count": 6,
     "metadata": {},
     "output_type": "execute_result"
    }
   ],
   "source": [
    "liquidacion_trimestral_df.reference.unique()[:9]"
   ]
  },
  {
   "cell_type": "code",
   "execution_count": 7,
   "id": "a9afa94c-5576-45b8-b16e-f301adade3dd",
   "metadata": {},
   "outputs": [
    {
     "data": {
      "text/plain": [
       "array(['2', '0'], dtype=object)"
      ]
     },
     "execution_count": 7,
     "metadata": {},
     "output_type": "execute_result"
    }
   ],
   "source": [
    "liquidacion_trimestral_df.decimals.unique()"
   ]
  },
  {
   "cell_type": "code",
   "execution_count": 8,
   "id": "509ee6d0-1814-4676-9fa2-b6132b8dabf4",
   "metadata": {},
   "outputs": [
    {
     "data": {
      "text/plain": [
       "array(['euro'], dtype=object)"
      ]
     },
     "execution_count": 8,
     "metadata": {},
     "output_type": "execute_result"
    }
   ],
   "source": [
    "liquidacion_trimestral_df.currency.unique()"
   ]
  },
  {
   "cell_type": "markdown",
   "id": "565b5ed8-e8bc-49ee-a26a-db22a00a5336",
   "metadata": {},
   "source": [
    "# TODO: arreglar el formateo de amount"
   ]
  },
  {
   "cell_type": "code",
   "execution_count": 9,
   "id": "723179c4-f057-4634-ac3b-17676c8def69",
   "metadata": {},
   "outputs": [],
   "source": [
    "liquidacion_trimestral_df.amount = liquidacion_trimestral_df.amount.astype(float)"
   ]
  },
  {
   "cell_type": "code",
   "execution_count": 10,
   "id": "b165d550-e7ce-48c6-932e-ea330f1d9737",
   "metadata": {},
   "outputs": [
    {
     "data": {
      "text/html": [
       "<div>\n",
       "<style scoped>\n",
       "    .dataframe tbody tr th:only-of-type {\n",
       "        vertical-align: middle;\n",
       "    }\n",
       "\n",
       "    .dataframe tbody tr th {\n",
       "        vertical-align: top;\n",
       "    }\n",
       "\n",
       "    .dataframe thead th {\n",
       "        text-align: right;\n",
       "    }\n",
       "</style>\n",
       "<table border=\"1\" class=\"dataframe\">\n",
       "  <thead>\n",
       "    <tr style=\"text-align: right;\">\n",
       "      <th></th>\n",
       "      <th>amount</th>\n",
       "    </tr>\n",
       "  </thead>\n",
       "  <tbody>\n",
       "    <tr>\n",
       "      <th>count</th>\n",
       "      <td>1.372000e+03</td>\n",
       "    </tr>\n",
       "    <tr>\n",
       "      <th>mean</th>\n",
       "      <td>1.527500e+06</td>\n",
       "    </tr>\n",
       "    <tr>\n",
       "      <th>std</th>\n",
       "      <td>6.417581e+06</td>\n",
       "    </tr>\n",
       "    <tr>\n",
       "      <th>min</th>\n",
       "      <td>-1.554168e+05</td>\n",
       "    </tr>\n",
       "    <tr>\n",
       "      <th>25%</th>\n",
       "      <td>0.000000e+00</td>\n",
       "    </tr>\n",
       "    <tr>\n",
       "      <th>50%</th>\n",
       "      <td>1.976192e+04</td>\n",
       "    </tr>\n",
       "    <tr>\n",
       "      <th>75%</th>\n",
       "      <td>2.733480e+05</td>\n",
       "    </tr>\n",
       "    <tr>\n",
       "      <th>max</th>\n",
       "      <td>6.544558e+07</td>\n",
       "    </tr>\n",
       "  </tbody>\n",
       "</table>\n",
       "</div>"
      ],
      "text/plain": [
       "             amount\n",
       "count  1.372000e+03\n",
       "mean   1.527500e+06\n",
       "std    6.417581e+06\n",
       "min   -1.554168e+05\n",
       "25%    0.000000e+00\n",
       "50%    1.976192e+04\n",
       "75%    2.733480e+05\n",
       "max    6.544558e+07"
      ]
     },
     "execution_count": 10,
     "metadata": {},
     "output_type": "execute_result"
    }
   ],
   "source": [
    "liquidacion_trimestral_df.describe()"
   ]
  }
 ],
 "metadata": {
  "kernelspec": {
   "display_name": "Python 3 (ipykernel)",
   "language": "python",
   "name": "python3"
  },
  "language_info": {
   "codemirror_mode": {
    "name": "ipython",
    "version": 3
   },
   "file_extension": ".py",
   "mimetype": "text/x-python",
   "name": "python",
   "nbconvert_exporter": "python",
   "pygments_lexer": "ipython3",
   "version": "3.9.6"
  },
  "toc-showcode": false,
  "toc-showmarkdowntxt": true
 },
 "nbformat": 4,
 "nbformat_minor": 5
}
