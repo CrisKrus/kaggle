{
 "cells": [
  {
   "cell_type": "markdown",
   "metadata": {
    "papermill": {
     "duration": 0.031317,
     "end_time": "2020-10-01T01:21:17.248336",
     "exception": false,
     "start_time": "2020-10-01T01:21:17.217019",
     "status": "completed"
    },
    "tags": []
   },
   "source": [
    "# Intro\n",
    "\n",
    "This course covers the key Python skills you’ll need so you can start using Python for data science. The course is ideal for someone with some previous coding experience who wants to add Python to their repertoire or level up their basic Python skills. (If you're a first-time coder, you may want to check out [these \"Python for Non-Programmers\" learning resources](https://wiki.python.org/moin/BeginnersGuide/NonProgrammers).)\n",
    "\n",
    "We'll start with a brief overview of Python syntax, variable assignment, and arithmetic operators. If you have previous Python experience, you can [skip straight to the hands-on exercise](https://www.kaggle.com/kernels/fork/1275163)."
   ]
  },
  {
   "cell_type": "markdown",
   "metadata": {
    "papermill": {
     "duration": 0.02714,
     "end_time": "2020-10-01T01:21:17.305176",
     "exception": false,
     "start_time": "2020-10-01T01:21:17.278036",
     "status": "completed"
    },
    "tags": []
   },
   "source": [
    "# Hello, Python!\n",
    "\n",
    "Python was named for the British comedy troupe [Monty Python](https://en.wikipedia.org/wiki/Monty_Python), so we'll make our first Python program an homage to their skit about Spam?\n",
    "\n",
    "Just for fun, try reading over the code below and predicting what it's going to do when run. (If you have no idea, that's fine!)\n",
    "\n",
    "Then click the \"output\" button to see the results of our program."
   ]
  },
  {
   "cell_type": "code",
   "execution_count": 1,
   "metadata": {
    "_kg_hide-output": true,
    "execution": {
     "iopub.execute_input": "2020-10-01T01:21:17.375116Z",
     "iopub.status.busy": "2020-10-01T01:21:17.373743Z",
     "iopub.status.idle": "2020-10-01T01:21:17.381370Z",
     "shell.execute_reply": "2020-10-01T01:21:17.382122Z"
    },
    "papermill": {
     "duration": 0.045761,
     "end_time": "2020-10-01T01:21:17.382391",
     "exception": false,
     "start_time": "2020-10-01T01:21:17.336630",
     "status": "completed"
    },
    "tags": []
   },
   "outputs": [
    {
     "name": "stdout",
     "output_type": "stream",
     "text": [
      "0\n",
      "But I don't want ANY spam!\n",
      "Spam Spam Spam Spam \n"
     ]
    }
   ],
   "source": [
    "spam_amount = 0\n",
    "print(spam_amount)\n",
    "\n",
    "# Ordering Spam, egg, Spam, Spam, bacon and Spam (4 more servings of Spam)\n",
    "spam_amount = spam_amount + 4\n",
    "\n",
    "if spam_amount > 0:\n",
    "    print(\"But I don't want ANY spam!\")\n",
    "\n",
    "viking_song = \"Spam \" * spam_amount\n",
    "print(viking_song)"
   ]
  },
  {
   "cell_type": "markdown",
   "metadata": {
    "papermill": {
     "duration": 0.02849,
     "end_time": "2020-10-01T01:21:17.443192",
     "exception": false,
     "start_time": "2020-10-01T01:21:17.414702",
     "status": "completed"
    },
    "tags": []
   },
   "source": [
    "There's a lot to unpack here! This silly program demonstrates many important aspects of what Python code looks like and how it works. Let's review the code from top to bottom."
   ]
  },
  {
   "cell_type": "code",
   "execution_count": 2,
   "metadata": {
    "collapsed": true,
    "execution": {
     "iopub.execute_input": "2020-10-01T01:21:17.506387Z",
     "iopub.status.busy": "2020-10-01T01:21:17.505452Z",
     "iopub.status.idle": "2020-10-01T01:21:17.510288Z",
     "shell.execute_reply": "2020-10-01T01:21:17.509585Z"
    },
    "papermill": {
     "duration": 0.038938,
     "end_time": "2020-10-01T01:21:17.510455",
     "exception": false,
     "start_time": "2020-10-01T01:21:17.471517",
     "status": "completed"
    },
    "tags": []
   },
   "outputs": [],
   "source": [
    "spam_amount = 0"
   ]
  },
  {
   "cell_type": "markdown",
   "metadata": {
    "papermill": {
     "duration": 0.028753,
     "end_time": "2020-10-01T01:21:17.568862",
     "exception": false,
     "start_time": "2020-10-01T01:21:17.540109",
     "status": "completed"
    },
    "tags": []
   },
   "source": [
    "**Variable assignment:** Here we create a variable called `spam_amount` and assign it the value of 0 using `=`, which is called the assignment operator.\n",
    "\n",
    "> **Aside**: If you've programmed in certain other languages (like Java or C++), you might be noticing some things Python *doesn't* require us to do here:  \n",
    "- we don't need to \"declare\" `spam_amount` before assigning to it\n",
    "- we don't need to tell Python what type of value `spam_amount` is going to refer to. In fact, we can even go on to reassign `spam_amount` to refer to a different sort of thing like a string or a boolean."
   ]
  },
  {
   "cell_type": "code",
   "execution_count": 3,
   "metadata": {
    "_kg_hide-output": false,
    "collapsed": true,
    "execution": {
     "iopub.execute_input": "2020-10-01T01:21:17.636779Z",
     "iopub.status.busy": "2020-10-01T01:21:17.635863Z",
     "iopub.status.idle": "2020-10-01T01:21:17.640963Z",
     "shell.execute_reply": "2020-10-01T01:21:17.640167Z"
    },
    "papermill": {
     "duration": 0.041066,
     "end_time": "2020-10-01T01:21:17.641110",
     "exception": false,
     "start_time": "2020-10-01T01:21:17.600044",
     "status": "completed"
    },
    "tags": []
   },
   "outputs": [
    {
     "name": "stdout",
     "output_type": "stream",
     "text": [
      "0\n"
     ]
    }
   ],
   "source": [
    "print(spam_amount)"
   ]
  },
  {
   "cell_type": "markdown",
   "metadata": {
    "papermill": {
     "duration": 0.030188,
     "end_time": "2020-10-01T01:21:17.701601",
     "exception": false,
     "start_time": "2020-10-01T01:21:17.671413",
     "status": "completed"
    },
    "tags": []
   },
   "source": [
    "**Function calls:**. `print` is a Python function that displays the value passed to it on the screen. We call functions by putting parentheses after their name, and putting the inputs (or *arguments*) to the function in those parentheses."
   ]
  },
  {
   "cell_type": "code",
   "execution_count": 4,
   "metadata": {
    "_kg_hide-output": false,
    "collapsed": true,
    "execution": {
     "iopub.execute_input": "2020-10-01T01:21:17.771622Z",
     "iopub.status.busy": "2020-10-01T01:21:17.770289Z",
     "iopub.status.idle": "2020-10-01T01:21:17.774474Z",
     "shell.execute_reply": "2020-10-01T01:21:17.773728Z"
    },
    "papermill": {
     "duration": 0.043605,
     "end_time": "2020-10-01T01:21:17.774667",
     "exception": false,
     "start_time": "2020-10-01T01:21:17.731062",
     "status": "completed"
    },
    "tags": []
   },
   "outputs": [],
   "source": [
    "# Ordering Spam, egg, Spam, Spam, bacon and Spam (4 more servings of Spam)\n",
    "spam_amount = spam_amount + 4"
   ]
  },
  {
   "cell_type": "markdown",
   "metadata": {
    "papermill": {
     "duration": 0.028245,
     "end_time": "2020-10-01T01:21:17.832908",
     "exception": false,
     "start_time": "2020-10-01T01:21:17.804663",
     "status": "completed"
    },
    "tags": []
   },
   "source": [
    "The first line above is a **comment**. In Python, comments begin with the `#` symbol.\n",
    "\n",
    "Next we see an example of reassignment. Reassigning the value of an existing variable looks just the same as creating a variable - it still uses the `=` assignment operator.\n",
    "\n",
    "In this case, the value we're assigning to `spam_amount` involves some simple arithmetic on its previous value. When it encounters this line, Python evaluates the expression on the right-hand-side of the `=` (0 + 4 = 4), and then assigns that value to the variable on the left-hand-side."
   ]
  },
  {
   "cell_type": "code",
   "execution_count": 5,
   "metadata": {
    "_kg_hide-output": false,
    "collapsed": true,
    "execution": {
     "iopub.execute_input": "2020-10-01T01:21:17.898133Z",
     "iopub.status.busy": "2020-10-01T01:21:17.897100Z",
     "iopub.status.idle": "2020-10-01T01:21:17.901960Z",
     "shell.execute_reply": "2020-10-01T01:21:17.902576Z"
    },
    "papermill": {
     "duration": 0.040839,
     "end_time": "2020-10-01T01:21:17.902781",
     "exception": false,
     "start_time": "2020-10-01T01:21:17.861942",
     "status": "completed"
    },
    "tags": []
   },
   "outputs": [
    {
     "name": "stdout",
     "output_type": "stream",
     "text": [
      "But I don't want ANY spam!\n",
      "Spam Spam Spam\n"
     ]
    }
   ],
   "source": [
    "if spam_amount > 0:\n",
    "    print(\"But I don't want ANY spam!\")\n",
    "\n",
    "viking_song = \"Spam Spam Spam\"\n",
    "print(viking_song)"
   ]
  },
  {
   "cell_type": "markdown",
   "metadata": {
    "papermill": {
     "duration": 0.028767,
     "end_time": "2020-10-01T01:21:17.961369",
     "exception": false,
     "start_time": "2020-10-01T01:21:17.932602",
     "status": "completed"
    },
    "tags": []
   },
   "source": [
    "We won't talk much about \"conditionals\" until later, but, even if you've never coded before, you can probably guess what this does. Python is prized for its readability and the simplicity. \n",
    "\n",
    "Note how we indicated which code belongs to the `if`. `\"But I don't want ANY spam!\"` is only supposed to be printed if `spam_amount` is positive. But the later code (like `print(viking_song)`) should be executed no matter what. How do we (and Python) know that?\n",
    "\n",
    "The colon (`:`) at the end of the `if` line indicates that a new \"code block\" is starting. Subsequent lines which are **indented** are part of that code block. Some other languages use `{`curly braces`}` to mark the beginning and end of code blocks. Python's use of meaningful whitespace can be surprising to programmers who are accustomed to other languages, but in practice it can lead to more consistent and readable code than languages that do not enforce indentation of code blocks. \n",
    "\n",
    "The later lines dealing with `viking_song` are not indented with an extra 4 spaces, so they're not a part of the `if`'s code block. We'll see more examples of indented code blocks later when we define functions and using loops.\n",
    "\n",
    "This code snippet is also our first sighting of a **string** in Python:\n",
    "\n",
    "```python\n",
    "\"But I don't want ANY spam!\"\n",
    "```\n",
    "\n",
    "Strings can be marked either by double or single quotation marks. (But because this particular string *contains* a single-quote character, we might confuse Python by trying to surround it with single-quotes, unless we're careful.)"
   ]
  },
  {
   "cell_type": "code",
   "execution_count": 6,
   "metadata": {
    "_kg_hide-output": false,
    "collapsed": true,
    "execution": {
     "iopub.execute_input": "2020-10-01T01:21:18.028082Z",
     "iopub.status.busy": "2020-10-01T01:21:18.027193Z",
     "iopub.status.idle": "2020-10-01T01:21:18.031635Z",
     "shell.execute_reply": "2020-10-01T01:21:18.030673Z"
    },
    "papermill": {
     "duration": 0.04077,
     "end_time": "2020-10-01T01:21:18.031810",
     "exception": false,
     "start_time": "2020-10-01T01:21:17.991040",
     "status": "completed"
    },
    "tags": []
   },
   "outputs": [
    {
     "name": "stdout",
     "output_type": "stream",
     "text": [
      "Spam Spam Spam Spam \n"
     ]
    }
   ],
   "source": [
    "viking_song = \"Spam \" * spam_amount\n",
    "print(viking_song)"
   ]
  },
  {
   "cell_type": "markdown",
   "metadata": {
    "papermill": {
     "duration": 0.033387,
     "end_time": "2020-10-01T01:21:18.096071",
     "exception": false,
     "start_time": "2020-10-01T01:21:18.062684",
     "status": "completed"
    },
    "tags": []
   },
   "source": [
    "The `*` operator can be used to multiply two numbers (`3 * 3` evaluates to 9), but amusingly enough, we can also multiply a string by a number, to get a version that's been repeated that many times. Python offers a number of cheeky little time-saving tricks like this where operators like `*` and `+` have a different meaning depending on what kind of thing they're applied to. (The technical term for this is [operator overloading](https://en.wikipedia.org/wiki/Operator_overloading))"
   ]
  },
  {
   "cell_type": "markdown",
   "metadata": {
    "papermill": {
     "duration": 0.030881,
     "end_time": "2020-10-01T01:21:18.158275",
     "exception": false,
     "start_time": "2020-10-01T01:21:18.127394",
     "status": "completed"
    },
    "tags": []
   },
   "source": [
    "## Numbers and arithmetic in Python\n",
    "\n",
    "We've already seen an example of a variable containing a number above:"
   ]
  },
  {
   "cell_type": "code",
   "execution_count": 7,
   "metadata": {
    "collapsed": true,
    "execution": {
     "iopub.execute_input": "2020-10-01T01:21:18.227446Z",
     "iopub.status.busy": "2020-10-01T01:21:18.226515Z",
     "iopub.status.idle": "2020-10-01T01:21:18.230350Z",
     "shell.execute_reply": "2020-10-01T01:21:18.229576Z"
    },
    "papermill": {
     "duration": 0.041366,
     "end_time": "2020-10-01T01:21:18.230494",
     "exception": false,
     "start_time": "2020-10-01T01:21:18.189128",
     "status": "completed"
    },
    "tags": []
   },
   "outputs": [],
   "source": [
    "spam_amount = 0"
   ]
  },
  {
   "cell_type": "markdown",
   "metadata": {
    "papermill": {
     "duration": 0.029351,
     "end_time": "2020-10-01T01:21:18.290636",
     "exception": false,
     "start_time": "2020-10-01T01:21:18.261285",
     "status": "completed"
    },
    "tags": []
   },
   "source": [
    "\"Number\" is a fine informal name for the kind of thing, but if we wanted to be more technical, we could ask Python how it would describe the type of thing that `spam_amount` is:"
   ]
  },
  {
   "cell_type": "code",
   "execution_count": 8,
   "metadata": {
    "collapsed": true,
    "execution": {
     "iopub.execute_input": "2020-10-01T01:21:18.359191Z",
     "iopub.status.busy": "2020-10-01T01:21:18.358149Z",
     "iopub.status.idle": "2020-10-01T01:21:18.363822Z",
     "shell.execute_reply": "2020-10-01T01:21:18.363010Z"
    },
    "papermill": {
     "duration": 0.043132,
     "end_time": "2020-10-01T01:21:18.363977",
     "exception": false,
     "start_time": "2020-10-01T01:21:18.320845",
     "status": "completed"
    },
    "tags": []
   },
   "outputs": [
    {
     "data": {
      "text/plain": [
       "int"
      ]
     },
     "execution_count": 8,
     "metadata": {},
     "output_type": "execute_result"
    }
   ],
   "source": [
    "type(spam_amount)"
   ]
  },
  {
   "cell_type": "markdown",
   "metadata": {
    "papermill": {
     "duration": 0.030392,
     "end_time": "2020-10-01T01:21:18.426892",
     "exception": false,
     "start_time": "2020-10-01T01:21:18.396500",
     "status": "completed"
    },
    "tags": []
   },
   "source": [
    "It's an `int` - short for integer. There's another sort of number we commonly encounter in Python:"
   ]
  },
  {
   "cell_type": "code",
   "execution_count": 9,
   "metadata": {
    "collapsed": true,
    "execution": {
     "iopub.execute_input": "2020-10-01T01:21:18.496344Z",
     "iopub.status.busy": "2020-10-01T01:21:18.495069Z",
     "iopub.status.idle": "2020-10-01T01:21:18.502277Z",
     "shell.execute_reply": "2020-10-01T01:21:18.501385Z"
    },
    "papermill": {
     "duration": 0.044817,
     "end_time": "2020-10-01T01:21:18.502427",
     "exception": false,
     "start_time": "2020-10-01T01:21:18.457610",
     "status": "completed"
    },
    "tags": []
   },
   "outputs": [
    {
     "data": {
      "text/plain": [
       "float"
      ]
     },
     "execution_count": 9,
     "metadata": {},
     "output_type": "execute_result"
    }
   ],
   "source": [
    "type(19.95)"
   ]
  },
  {
   "cell_type": "markdown",
   "metadata": {
    "papermill": {
     "duration": 0.042887,
     "end_time": "2020-10-01T01:21:18.577210",
     "exception": false,
     "start_time": "2020-10-01T01:21:18.534323",
     "status": "completed"
    },
    "tags": []
   },
   "source": [
    "A `float` is a number with a decimal place - very useful for representing things like weights or proportions.\n",
    "\n",
    "`type()` is the second built-in function we've seen (after `print()`), and it's another good one to remember. It's very useful to be able to ask Python \"what kind of thing is this?\". "
   ]
  },
  {
   "cell_type": "markdown",
   "metadata": {
    "papermill": {
     "duration": 0.042239,
     "end_time": "2020-10-01T01:21:18.666603",
     "exception": false,
     "start_time": "2020-10-01T01:21:18.624364",
     "status": "completed"
    },
    "tags": []
   },
   "source": [
    "A natural thing to want to do with numbers is perform arithmetic. We've seen the `+` operator for addition, and the `*` operator for multiplication (of a sort). Python also has us covered for the rest of the basic buttons on your calculator:\n",
    "\n",
    "| Operator     | Name           | Description                                            |\n",
    "|--------------|----------------|--------------------------------------------------------|\n",
    "| ``a + b``    | Addition       | Sum of ``a`` and ``b``                                 |\n",
    "| ``a - b``    | Subtraction    | Difference of ``a`` and ``b``                          |\n",
    "| ``a * b``    | Multiplication | Product of ``a`` and ``b``                             |\n",
    "| ``a / b``    | True division  | Quotient of ``a`` and ``b``                            |\n",
    "| ``a // b``   | Floor division | Quotient of ``a`` and ``b``, removing fractional parts |\n",
    "| ``a % b``    | Modulus        | Integer remainder after division of ``a`` by ``b``     |\n",
    "| ``a ** b``   | Exponentiation | ``a`` raised to the power of ``b``                     |\n",
    "| ``-a``       | Negation       | The negative of ``a``                                  |\n",
    "\n",
    "<span style=\"display:none\"></span>\n",
    "\n",
    "One interesting observation here is that, whereas your calculator probably just has one button for division, Python can do two kinds. \"True division\" is basically what your calculator does:"
   ]
  },
  {
   "cell_type": "code",
   "execution_count": 10,
   "metadata": {
    "collapsed": true,
    "execution": {
     "iopub.execute_input": "2020-10-01T01:21:18.737456Z",
     "iopub.status.busy": "2020-10-01T01:21:18.736303Z",
     "iopub.status.idle": "2020-10-01T01:21:18.750063Z",
     "shell.execute_reply": "2020-10-01T01:21:18.751132Z"
    },
    "papermill": {
     "duration": 0.053713,
     "end_time": "2020-10-01T01:21:18.751432",
     "exception": false,
     "start_time": "2020-10-01T01:21:18.697719",
     "status": "completed"
    },
    "tags": []
   },
   "outputs": [
    {
     "name": "stdout",
     "output_type": "stream",
     "text": [
      "2.5\n",
      "3.0\n"
     ]
    }
   ],
   "source": [
    "print(5 / 2)\n",
    "print(6 / 2)"
   ]
  },
  {
   "cell_type": "markdown",
   "metadata": {
    "papermill": {
     "duration": 0.044567,
     "end_time": "2020-10-01T01:21:18.836063",
     "exception": false,
     "start_time": "2020-10-01T01:21:18.791496",
     "status": "completed"
    },
    "tags": []
   },
   "source": [
    "It always gives us a `float`. \n",
    "\n",
    "The `//` operator gives us a result that's rounded down to the next integer."
   ]
  },
  {
   "cell_type": "code",
   "execution_count": 11,
   "metadata": {
    "collapsed": true,
    "execution": {
     "iopub.execute_input": "2020-10-01T01:21:18.943090Z",
     "iopub.status.busy": "2020-10-01T01:21:18.941584Z",
     "iopub.status.idle": "2020-10-01T01:21:18.947842Z",
     "shell.execute_reply": "2020-10-01T01:21:18.948840Z"
    },
    "papermill": {
     "duration": 0.06587,
     "end_time": "2020-10-01T01:21:18.949083",
     "exception": false,
     "start_time": "2020-10-01T01:21:18.883213",
     "status": "completed"
    },
    "tags": []
   },
   "outputs": [
    {
     "name": "stdout",
     "output_type": "stream",
     "text": [
      "2\n",
      "3\n"
     ]
    }
   ],
   "source": [
    "print(5 // 2)\n",
    "print(6 // 2)"
   ]
  },
  {
   "cell_type": "markdown",
   "metadata": {
    "papermill": {
     "duration": 0.037811,
     "end_time": "2020-10-01T01:21:19.024988",
     "exception": false,
     "start_time": "2020-10-01T01:21:18.987177",
     "status": "completed"
    },
    "tags": []
   },
   "source": [
    "Can you think of where this would be useful? You'll see an example soon in the coding challenges."
   ]
  },
  {
   "cell_type": "markdown",
   "metadata": {
    "papermill": {
     "duration": 0.03257,
     "end_time": "2020-10-01T01:21:19.091212",
     "exception": false,
     "start_time": "2020-10-01T01:21:19.058642",
     "status": "completed"
    },
    "tags": []
   },
   "source": [
    "### Order of operations\n",
    "\n",
    "The arithmetic we learned in primary school has conventions about the order in which operations are evaluated. Some remember these by a mnemonic such as **PEMDAS** - **P**arentheses, **E**xponents, **M**ultiplication/**D**ivision, **A**ddition/**S**ubtraction.\n",
    "\n",
    "Python follows similar rules about which calculations to perform first. They're mostly pretty intuitive."
   ]
  },
  {
   "cell_type": "code",
   "execution_count": 12,
   "metadata": {
    "collapsed": true,
    "execution": {
     "iopub.execute_input": "2020-10-01T01:21:19.168368Z",
     "iopub.status.busy": "2020-10-01T01:21:19.167023Z",
     "iopub.status.idle": "2020-10-01T01:21:19.173655Z",
     "shell.execute_reply": "2020-10-01T01:21:19.174267Z"
    },
    "papermill": {
     "duration": 0.049816,
     "end_time": "2020-10-01T01:21:19.174564",
     "exception": false,
     "start_time": "2020-10-01T01:21:19.124748",
     "status": "completed"
    },
    "tags": []
   },
   "outputs": [
    {
     "data": {
      "text/plain": [
       "7"
      ]
     },
     "execution_count": 12,
     "metadata": {},
     "output_type": "execute_result"
    }
   ],
   "source": [
    "8 - 3 + 2"
   ]
  },
  {
   "cell_type": "code",
   "execution_count": 13,
   "metadata": {
    "collapsed": true,
    "execution": {
     "iopub.execute_input": "2020-10-01T01:21:19.249079Z",
     "iopub.status.busy": "2020-10-01T01:21:19.248154Z",
     "iopub.status.idle": "2020-10-01T01:21:19.253702Z",
     "shell.execute_reply": "2020-10-01T01:21:19.252846Z"
    },
    "papermill": {
     "duration": 0.045523,
     "end_time": "2020-10-01T01:21:19.253867",
     "exception": false,
     "start_time": "2020-10-01T01:21:19.208344",
     "status": "completed"
    },
    "tags": []
   },
   "outputs": [
    {
     "data": {
      "text/plain": [
       "5"
      ]
     },
     "execution_count": 13,
     "metadata": {},
     "output_type": "execute_result"
    }
   ],
   "source": [
    "-3 + 4 * 2"
   ]
  },
  {
   "cell_type": "markdown",
   "metadata": {
    "papermill": {
     "duration": 0.034005,
     "end_time": "2020-10-01T01:21:19.321682",
     "exception": false,
     "start_time": "2020-10-01T01:21:19.287677",
     "status": "completed"
    },
    "tags": []
   },
   "source": [
    "Sometimes the default order of operations isn't what we want:"
   ]
  },
  {
   "cell_type": "code",
   "execution_count": 14,
   "metadata": {
    "collapsed": true,
    "execution": {
     "iopub.execute_input": "2020-10-01T01:21:19.400440Z",
     "iopub.status.busy": "2020-10-01T01:21:19.399388Z",
     "iopub.status.idle": "2020-10-01T01:21:19.404324Z",
     "shell.execute_reply": "2020-10-01T01:21:19.403520Z"
    },
    "papermill": {
     "duration": 0.048307,
     "end_time": "2020-10-01T01:21:19.404466",
     "exception": false,
     "start_time": "2020-10-01T01:21:19.356159",
     "status": "completed"
    },
    "tags": []
   },
   "outputs": [
    {
     "name": "stdout",
     "output_type": "stream",
     "text": [
      "Height in meters = 26.9 ?\n"
     ]
    }
   ],
   "source": [
    "hat_height_cm = 25\n",
    "my_height_cm = 190\n",
    "# How tall am I, in meters, when wearing my hat?\n",
    "total_height_meters = hat_height_cm + my_height_cm / 100\n",
    "print(\"Height in meters =\", total_height_meters, \"?\")"
   ]
  },
  {
   "cell_type": "markdown",
   "metadata": {
    "papermill": {
     "duration": 0.034113,
     "end_time": "2020-10-01T01:21:19.472995",
     "exception": false,
     "start_time": "2020-10-01T01:21:19.438882",
     "status": "completed"
    },
    "tags": []
   },
   "source": [
    "Parentheses are your useful here. You can add them to force Python to evaluate sub-expressions in whatever order you want."
   ]
  },
  {
   "cell_type": "code",
   "execution_count": 15,
   "metadata": {
    "collapsed": true,
    "execution": {
     "iopub.execute_input": "2020-10-01T01:21:19.549379Z",
     "iopub.status.busy": "2020-10-01T01:21:19.548519Z",
     "iopub.status.idle": "2020-10-01T01:21:19.554401Z",
     "shell.execute_reply": "2020-10-01T01:21:19.553589Z"
    },
    "papermill": {
     "duration": 0.046787,
     "end_time": "2020-10-01T01:21:19.554557",
     "exception": false,
     "start_time": "2020-10-01T01:21:19.507770",
     "status": "completed"
    },
    "tags": []
   },
   "outputs": [
    {
     "name": "stdout",
     "output_type": "stream",
     "text": [
      "Height in meters = 2.15\n"
     ]
    }
   ],
   "source": [
    "total_height_meters = (hat_height_cm + my_height_cm) / 100\n",
    "print(\"Height in meters =\", total_height_meters)"
   ]
  },
  {
   "cell_type": "markdown",
   "metadata": {
    "papermill": {
     "duration": 0.036866,
     "end_time": "2020-10-01T01:21:19.631125",
     "exception": false,
     "start_time": "2020-10-01T01:21:19.594259",
     "status": "completed"
    },
    "tags": []
   },
   "source": [
    "### Builtin functions for working with numbers\n",
    "\n",
    "`min` and `max` return the minimum and maximum of their arguments, respectively..."
   ]
  },
  {
   "cell_type": "code",
   "execution_count": 16,
   "metadata": {
    "collapsed": true,
    "execution": {
     "iopub.execute_input": "2020-10-01T01:21:19.713179Z",
     "iopub.status.busy": "2020-10-01T01:21:19.712203Z",
     "iopub.status.idle": "2020-10-01T01:21:19.715657Z",
     "shell.execute_reply": "2020-10-01T01:21:19.716261Z"
    },
    "papermill": {
     "duration": 0.048643,
     "end_time": "2020-10-01T01:21:19.716420",
     "exception": false,
     "start_time": "2020-10-01T01:21:19.667777",
     "status": "completed"
    },
    "tags": []
   },
   "outputs": [
    {
     "name": "stdout",
     "output_type": "stream",
     "text": [
      "1\n",
      "3\n"
     ]
    }
   ],
   "source": [
    "print(min(1, 2, 3))\n",
    "print(max(1, 2, 3))"
   ]
  },
  {
   "cell_type": "markdown",
   "metadata": {
    "papermill": {
     "duration": 0.037784,
     "end_time": "2020-10-01T01:21:19.792122",
     "exception": false,
     "start_time": "2020-10-01T01:21:19.754338",
     "status": "completed"
    },
    "tags": []
   },
   "source": [
    "`abs` returns the absolute value of it argument:"
   ]
  },
  {
   "cell_type": "code",
   "execution_count": 17,
   "metadata": {
    "collapsed": true,
    "execution": {
     "iopub.execute_input": "2020-10-01T01:21:19.869845Z",
     "iopub.status.busy": "2020-10-01T01:21:19.868998Z",
     "iopub.status.idle": "2020-10-01T01:21:19.873486Z",
     "shell.execute_reply": "2020-10-01T01:21:19.872728Z"
    },
    "papermill": {
     "duration": 0.045481,
     "end_time": "2020-10-01T01:21:19.873649",
     "exception": false,
     "start_time": "2020-10-01T01:21:19.828168",
     "status": "completed"
    },
    "tags": []
   },
   "outputs": [
    {
     "name": "stdout",
     "output_type": "stream",
     "text": [
      "32\n",
      "32\n"
     ]
    }
   ],
   "source": [
    "print(abs(32))\n",
    "print(abs(-32))"
   ]
  },
  {
   "cell_type": "markdown",
   "metadata": {
    "papermill": {
     "duration": 0.03491,
     "end_time": "2020-10-01T01:21:19.943598",
     "exception": false,
     "start_time": "2020-10-01T01:21:19.908688",
     "status": "completed"
    },
    "tags": []
   },
   "source": [
    "In addition to being the names of Python's two main numerical types, `int` and `float` can also be called as functions which convert their arguments to the corresponding type:"
   ]
  },
  {
   "cell_type": "code",
   "execution_count": 18,
   "metadata": {
    "collapsed": true,
    "execution": {
     "iopub.execute_input": "2020-10-01T01:21:20.023826Z",
     "iopub.status.busy": "2020-10-01T01:21:20.022901Z",
     "iopub.status.idle": "2020-10-01T01:21:20.026352Z",
     "shell.execute_reply": "2020-10-01T01:21:20.027009Z"
    },
    "papermill": {
     "duration": 0.048063,
     "end_time": "2020-10-01T01:21:20.027200",
     "exception": false,
     "start_time": "2020-10-01T01:21:19.979137",
     "status": "completed"
    },
    "tags": []
   },
   "outputs": [
    {
     "name": "stdout",
     "output_type": "stream",
     "text": [
      "10.0\n",
      "3\n",
      "808\n"
     ]
    }
   ],
   "source": [
    "print(float(10))\n",
    "print(int(3.33))\n",
    "# They can even be called on strings!\n",
    "print(int('807') + 1)"
   ]
  },
  {
   "cell_type": "markdown",
   "metadata": {
    "papermill": {
     "duration": 0.035872,
     "end_time": "2020-10-01T01:21:20.100478",
     "exception": false,
     "start_time": "2020-10-01T01:21:20.064606",
     "status": "completed"
    },
    "tags": []
   },
   "source": [
    "# Your Turn\n",
    "\n",
    "Now is your chance. Try your **[first Python programming exercise](https://www.kaggle.com/kernels/fork/1275163)**"
   ]
  },
  {
   "cell_type": "markdown",
   "metadata": {
    "papermill": {
     "duration": 0.036019,
     "end_time": "2020-10-01T01:21:20.172840",
     "exception": false,
     "start_time": "2020-10-01T01:21:20.136821",
     "status": "completed"
    },
    "tags": []
   },
   "source": [
    "---\n",
    "\n",
    "\n",
    "\n",
    "\n",
    "*Have questions or comments? Visit the [Learn Discussion forum](https://www.kaggle.com/learn-forum/161283) to chat with other Learners.*"
   ]
  }
 ],
 "metadata": {
  "anaconda-cloud": {},
  "celltoolbar": "Edit Metadata",
  "kernelspec": {
   "display_name": "Python 3",
   "language": "python",
   "name": "python3"
  },
  "language_info": {
   "codemirror_mode": {
    "name": "ipython",
    "version": 3
   },
   "file_extension": ".py",
   "mimetype": "text/x-python",
   "name": "python",
   "nbconvert_exporter": "python",
   "pygments_lexer": "ipython3",
   "version": "3.7.6"
  },
  "learntools_metadata": {
   "lesson_index": 0,
   "type": "tutorial"
  },
  "papermill": {
   "duration": 9.10109,
   "end_time": "2020-10-01T01:21:20.320010",
   "environment_variables": {},
   "exception": null,
   "input_path": "__notebook__.ipynb",
   "output_path": "__notebook__.ipynb",
   "parameters": {},
   "start_time": "2020-10-01T01:21:11.218920",
   "version": "2.1.0"
  }
 },
 "nbformat": 4,
 "nbformat_minor": 2
}
